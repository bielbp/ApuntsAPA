{
 "cells": [
  {
   "cell_type": "markdown",
   "id": "6774f88a-50b9-42f6-a58e-c3c1b47688b0",
   "metadata": {},
   "source": [
    "# **Sistema de tipus de dades en Python**\n",
    "\n",
    "Simples i compostos\n",
    "Mutables i inmutables"
   ]
  },
  {
   "cell_type": "markdown",
   "id": "56b52816-9fde-4150-be7e-e003174362ed",
   "metadata": {
    "jp-MarkdownHeadingCollapsed": true
   },
   "source": [
    "## **Nombres Enters:**"
   ]
  },
  {
   "cell_type": "code",
   "execution_count": 3,
   "id": "110ad3c0-e781-4c7a-a3b5-d3f3e3abed1b",
   "metadata": {},
   "outputs": [
    {
     "name": "stdout",
     "output_type": "stream",
     "text": [
      "<class 'int'>\n"
     ]
    }
   ],
   "source": [
    "a = 1\n",
    "print(type(a)) # Ens ensenya per pantalla el tipus de dada."
   ]
  },
  {
   "cell_type": "markdown",
   "id": "f27243db-9af7-416a-8b57-254f50b37e39",
   "metadata": {},
   "source": [
    "Numeros en Binari: 0b"
   ]
  },
  {
   "cell_type": "code",
   "execution_count": 5,
   "id": "bdd4f59f-dae5-4746-a3e3-a8c9cd698a05",
   "metadata": {},
   "outputs": [
    {
     "data": {
      "text/plain": [
       "41"
      ]
     },
     "execution_count": 5,
     "metadata": {},
     "output_type": "execute_result"
    }
   ],
   "source": [
    "0b0101001 #Es pot fer servir tant la b com la B"
   ]
  },
  {
   "cell_type": "markdown",
   "id": "60d4bb22-f631-4766-bbfe-ecc642ca2959",
   "metadata": {},
   "source": [
    "Numeros en octal: 0o"
   ]
  },
  {
   "cell_type": "code",
   "execution_count": 7,
   "id": "1bf55695-12dd-41ce-b407-41721f0c8fe5",
   "metadata": {},
   "outputs": [
    {
     "data": {
      "text/plain": [
       "61"
      ]
     },
     "execution_count": 7,
     "metadata": {},
     "output_type": "execute_result"
    }
   ],
   "source": [
    "0o75"
   ]
  },
  {
   "cell_type": "markdown",
   "id": "f7531b62-5932-42d1-95fb-16a409e3e849",
   "metadata": {},
   "source": [
    "Numeros en Hexadecimal: 0x"
   ]
  },
  {
   "cell_type": "code",
   "execution_count": 11,
   "id": "5e9acaaf-c45a-43c0-ac57-83075817c54c",
   "metadata": {},
   "outputs": [
    {
     "data": {
      "text/plain": [
       "2047"
      ]
     },
     "execution_count": 11,
     "metadata": {},
     "output_type": "execute_result"
    }
   ],
   "source": [
    "0x7ff"
   ]
  },
  {
   "cell_type": "markdown",
   "id": "47dc8e63-e7ec-45ef-a94d-935f696587ff",
   "metadata": {},
   "source": []
  },
  {
   "cell_type": "code",
   "execution_count": 12,
   "id": "137bf9cf-a2a4-41de-a304-6fb0ba313563",
   "metadata": {},
   "outputs": [
    {
     "data": {
      "text/plain": [
       "74891236349017"
      ]
     },
     "execution_count": 12,
     "metadata": {},
     "output_type": "execute_result"
    }
   ],
   "source": [
    "74_891_236_349_017"
   ]
  },
  {
   "cell_type": "code",
   "execution_count": 13,
   "id": "a0bd733f-bc41-42a2-aa7c-9629b4df6b00",
   "metadata": {},
   "outputs": [
    {
     "data": {
      "text/plain": [
       "3388216343048193877291856054374523144003089581897153665841586582414414279540222364704206025479919166208444463800742991596576340736023655095908355644262162249727404883785249367943265813918635990360916397140018008560514015325148480416387188779323492629454226641747519357969533003067254181156466481988834816904917651602114978503052930232828804096115205437532713891160527099479343291172630967594882722261115013789287904756444715148571900294379883538486422156737660895716436734185833313747504300625055345113407848893955778303541420681368699376220811134049730669762462851887988032312380723457797634756254087229022961235176937898980287105730816837823476168342927763704818217316307602628994313679995207894232799790255049150597515654498660891075635435573377752029740835181625018959242918978948536623315957539536006761149082712840044844749222609825856711969477063420406425190466289392860845922798168047503512020691988989176507427065201297950628304623258464952155088323331305524775519577231870722922285520851867736409554863635170534752051787688439997562803211233107795069767235649651066512315680006034547588912860461717603358997799908725767769333967216071109302190346365782461028763570302464310096949826504732223622118595998192514298267131317780954129984621160516092765610581425104222033971972560678974030962302322532761842525035300153005036991814207144036598930697565984491225419425867239838647938150609674486283673635642351127538083576096340708080986127795460387807363965990329424335509916330681717190081683471977730864771225972681000820127366052676824355605591922632863027149877452570977356348575540120324467983844896868269796437723289741229711174102165433700400000035666721471525408984016251220453552322075354805054439029573932721190683401977208837868952097144757137464937251541066728341577329667356190481485684039039044525442777128841027955650196073727089029567302510373331208944334514453098263032627161361226362312685325650346387362208475512832"
      ]
     },
     "execution_count": 13,
     "metadata": {},
     "output_type": "execute_result"
    }
   ],
   "source": [
    "342**765"
   ]
  },
  {
   "cell_type": "markdown",
   "id": "ee9deb61-f0a2-4aac-bd26-39b47fd69559",
   "metadata": {
    "jp-MarkdownHeadingCollapsed": true
   },
   "source": [
    "## Nombres Reals"
   ]
  },
  {
   "cell_type": "code",
   "execution_count": 14,
   "id": "13b5fc2c-fc55-4c01-8fdc-3c4b42f0c451",
   "metadata": {},
   "outputs": [
    {
     "data": {
      "text/plain": [
       "7.45"
      ]
     },
     "execution_count": 14,
     "metadata": {},
     "output_type": "execute_result"
    }
   ],
   "source": [
    "7.45"
   ]
  },
  {
   "cell_type": "code",
   "execution_count": null,
   "id": "cf092419-bd5f-4e15-b480-8dc2b7ed0976",
   "metadata": {},
   "outputs": [],
   "source": []
  },
  {
   "cell_type": "markdown",
   "id": "db4c1bf6-42cf-4fd5-900a-e16e181b7865",
   "metadata": {},
   "source": [
    "Notació cientifica:"
   ]
  },
  {
   "cell_type": "code",
   "execution_count": 16,
   "id": "5efc7034-5d79-40b3-90c0-bbd052a6db90",
   "metadata": {},
   "outputs": [
    {
     "data": {
      "text/plain": [
       "100000.0"
      ]
     },
     "execution_count": 16,
     "metadata": {},
     "output_type": "execute_result"
    }
   ],
   "source": [
    "1e5"
   ]
  },
  {
   "cell_type": "markdown",
   "id": "9ce9b0cb-8e84-4d95-a8a3-7a11d4c31b58",
   "metadata": {
    "jp-MarkdownHeadingCollapsed": true
   },
   "source": [
    "## Nombres Complexes:"
   ]
  },
  {
   "cell_type": "code",
   "execution_count": 17,
   "id": "baa8d456-0d20-43d2-919e-ed28120c3a5e",
   "metadata": {},
   "outputs": [
    {
     "data": {
      "text/plain": [
       "1j"
      ]
     },
     "execution_count": 17,
     "metadata": {},
     "output_type": "execute_result"
    }
   ],
   "source": [
    "1j"
   ]
  },
  {
   "cell_type": "code",
   "execution_count": 19,
   "id": "d6fad9f5-5c7b-4e1c-918c-3bf987745528",
   "metadata": {},
   "outputs": [
    {
     "data": {
      "text/plain": [
       "0j"
      ]
     },
     "execution_count": 19,
     "metadata": {},
     "output_type": "execute_result"
    }
   ],
   "source": [
    "1j * 0"
   ]
  },
  {
   "cell_type": "markdown",
   "id": "1cd9794a-da7f-4040-aa5f-d6a076fa4409",
   "metadata": {},
   "source": [
    "Metode de conjugats:"
   ]
  },
  {
   "cell_type": "code",
   "execution_count": 22,
   "id": "1e6846b9-af3e-4530-8bd4-f1239120884f",
   "metadata": {},
   "outputs": [
    {
     "data": {
      "text/plain": [
       "(1-1j)"
      ]
     },
     "execution_count": 22,
     "metadata": {},
     "output_type": "execute_result"
    }
   ],
   "source": [
    "complexe = 1 + 1j\n",
    "\n",
    "complexe.imag # Et dona la part imaginaria\n",
    "complexe.conjugate() #Et dona el conjugat"
   ]
  },
  {
   "cell_type": "markdown",
   "id": "e292a2d3-33ac-4a19-bc38-6cf887546cd0",
   "metadata": {},
   "source": [
    "Valor Absolut:"
   ]
  },
  {
   "cell_type": "code",
   "execution_count": 23,
   "id": "6b29ccff-651c-447e-af82-6cc44944fcb3",
   "metadata": {},
   "outputs": [
    {
     "data": {
      "text/plain": [
       "1.4142135623730951"
      ]
     },
     "execution_count": 23,
     "metadata": {},
     "output_type": "execute_result"
    }
   ],
   "source": [
    "abs(complexe)"
   ]
  },
  {
   "cell_type": "markdown",
   "id": "f5eb4ea6-862d-49fb-b625-0cb19659dc5a",
   "metadata": {
    "jp-MarkdownHeadingCollapsed": true
   },
   "source": [
    "## Llistes"
   ]
  },
  {
   "cell_type": "markdown",
   "id": "d3f8ecd6-024c-4f0f-9142-b8cee2c04da0",
   "metadata": {},
   "source": [
    "Es un contenidor ordinalitzable, mutable d'objectes."
   ]
  },
  {
   "cell_type": "code",
   "execution_count": 29,
   "id": "8f09ac1f-d26b-425b-becb-c6ae0c5d855b",
   "metadata": {},
   "outputs": [
    {
     "data": {
      "text/plain": [
       "list"
      ]
     },
     "execution_count": 29,
     "metadata": {},
     "output_type": "execute_result"
    }
   ],
   "source": [
    "llista = [1, 3, \"Hola món\", None, True, False, ] # Podem tantcar la corxera directament o posar una coma final(recomanable per simplificar la feina)\n",
    "type(llista)"
   ]
  },
  {
   "cell_type": "markdown",
   "id": "188d1a2f-d2f0-4327-9bf4-872cd9134c98",
   "metadata": {},
   "source": [
    "Per veure el primer element"
   ]
  },
  {
   "cell_type": "code",
   "execution_count": 28,
   "id": "7a44b10a-5700-4eca-b63c-a2913d48d350",
   "metadata": {},
   "outputs": [
    {
     "data": {
      "text/plain": [
       "1"
      ]
     },
     "execution_count": 28,
     "metadata": {},
     "output_type": "execute_result"
    }
   ],
   "source": [
    "llista[0]"
   ]
  },
  {
   "cell_type": "markdown",
   "id": "192a1006-0c33-445d-8dc9-fe340006a6ae",
   "metadata": {},
   "source": [
    "Per verue l'últim element"
   ]
  },
  {
   "cell_type": "code",
   "execution_count": 30,
   "id": "70113a36-d66b-4ce4-8bd9-ec3dff2815ad",
   "metadata": {},
   "outputs": [
    {
     "data": {
      "text/plain": [
       "False"
      ]
     },
     "execution_count": 30,
     "metadata": {},
     "output_type": "execute_result"
    }
   ],
   "source": [
    "llista[-1]"
   ]
  },
  {
   "cell_type": "markdown",
   "id": "a727230e-40c4-4c66-adb2-bb283241c3c3",
   "metadata": {},
   "source": [
    "### Slices\n",
    " primer : penultim : increment "
   ]
  },
  {
   "cell_type": "code",
   "execution_count": null,
   "id": "d7134682-bc4b-4247-aba6-c7dcbf1476b7",
   "metadata": {},
   "outputs": [],
   "source": []
  },
  {
   "cell_type": "markdown",
   "id": "7aed8319-833f-4793-b354-1547eeef4fda",
   "metadata": {},
   "source": [
    "primer"
   ]
  },
  {
   "cell_type": "markdown",
   "id": "8c0d7597-12f5-4881-bad4-f4e7601b1787",
   "metadata": {},
   "source": [
    "primer : desde el primer fins al final "
   ]
  },
  {
   "cell_type": "markdown",
   "id": "a6f942bb-5af0-47c7-b824-e1457d051343",
   "metadata": {},
   "source": [
    "primero : penúltim des del primer fins just el penúltim"
   ]
  },
  {
   "cell_type": "markdown",
   "id": "fe64ad3e-85c0-4a4f-b124-adc1dc5c64eb",
   "metadata": {},
   "source": [
    "Tots els elments"
   ]
  },
  {
   "cell_type": "code",
   "execution_count": 33,
   "id": "4a713290-7e30-4a6d-a31a-d35e9e0032f0",
   "metadata": {},
   "outputs": [
    {
     "data": {
      "text/plain": [
       "[1, 3, 'Hola món', None, True, False]"
      ]
     },
     "execution_count": 33,
     "metadata": {},
     "output_type": "execute_result"
    }
   ],
   "source": [
    "llista[:]"
   ]
  },
  {
   "cell_type": "markdown",
   "id": "2bb2cc5c-1945-41a8-88a9-cc507ffecf86",
   "metadata": {},
   "source": [
    "Tots els elements parells"
   ]
  },
  {
   "cell_type": "code",
   "execution_count": 36,
   "id": "e6ea2955-4d97-4609-a2a5-543b85710d1d",
   "metadata": {},
   "outputs": [
    {
     "data": {
      "text/plain": [
       "['Hola món', True]"
      ]
     },
     "execution_count": 36,
     "metadata": {},
     "output_type": "execute_result"
    }
   ],
   "source": [
    "llista[2::2]"
   ]
  },
  {
   "cell_type": "markdown",
   "id": "050efe7f-a20a-41f6-a224-060077458555",
   "metadata": {},
   "source": [
    "Elements a la inversa"
   ]
  },
  {
   "cell_type": "code",
   "execution_count": 39,
   "id": "72cccc27-f9ea-40dd-a686-17a6b8933b57",
   "metadata": {},
   "outputs": [
    {
     "data": {
      "text/plain": [
       "[False, True, None, 'Hola món', 3, 1]"
      ]
     },
     "execution_count": 39,
     "metadata": {},
     "output_type": "execute_result"
    }
   ],
   "source": [
    "llista[::-1]"
   ]
  },
  {
   "cell_type": "markdown",
   "id": "9d95f27a-6b8e-4e17-9672-4547cc5319c0",
   "metadata": {},
   "source": [
    "Afegir un element"
   ]
  },
  {
   "cell_type": "code",
   "execution_count": 40,
   "id": "ce8e1fe4-10a3-4eef-b442-504c79f47ad8",
   "metadata": {},
   "outputs": [],
   "source": [
    "llista.append(-4)"
   ]
  },
  {
   "cell_type": "code",
   "execution_count": 41,
   "id": "64e43fb7-9206-4e9d-a4c2-afc0338f0b30",
   "metadata": {},
   "outputs": [
    {
     "data": {
      "text/plain": [
       "[1, 3, 'Hola món', None, True, False, -4]"
      ]
     },
     "execution_count": 41,
     "metadata": {},
     "output_type": "execute_result"
    }
   ],
   "source": [
    "llista"
   ]
  },
  {
   "cell_type": "markdown",
   "id": "41732d13-63e7-4ce9-84b8-e6e855edb988",
   "metadata": {},
   "source": [
    "Afegir varis elements en forma de llista"
   ]
  },
  {
   "cell_type": "code",
   "execution_count": 42,
   "id": "7974fbdf-1384-45e6-bf4a-2638e1f5872e",
   "metadata": {},
   "outputs": [],
   "source": [
    "llista.append([4, 5])"
   ]
  },
  {
   "cell_type": "code",
   "execution_count": 43,
   "id": "afad69a8-c6d9-4761-bb47-d461756ff703",
   "metadata": {},
   "outputs": [
    {
     "data": {
      "text/plain": [
       "[1, 3, 'Hola món', None, True, False, -4, [4, 5]]"
      ]
     },
     "execution_count": 43,
     "metadata": {},
     "output_type": "execute_result"
    }
   ],
   "source": [
    "llista"
   ]
  },
  {
   "cell_type": "markdown",
   "id": "cc08aeb5-f1a3-4095-a0f5-72158864e86f",
   "metadata": {},
   "source": [
    "Extendre una llista amb una altre llista"
   ]
  },
  {
   "cell_type": "code",
   "execution_count": 45,
   "id": "dc745a90-d712-4556-81c6-9853458397c2",
   "metadata": {},
   "outputs": [],
   "source": [
    "llista.extend([5, 6, 7])"
   ]
  },
  {
   "cell_type": "code",
   "execution_count": 46,
   "id": "eaf36698-e2b4-4b84-a378-8ab5bf00a976",
   "metadata": {},
   "outputs": [
    {
     "data": {
      "text/plain": [
       "[1, 3, 'Hola món', None, True, False, -4, [4, 5], 5, 6, 7]"
      ]
     },
     "execution_count": 46,
     "metadata": {},
     "output_type": "execute_result"
    }
   ],
   "source": [
    "llista"
   ]
  },
  {
   "cell_type": "markdown",
   "id": "a93117da-04e1-47f6-87a0-c9d0b90ce517",
   "metadata": {},
   "source": [
    "Eliminar l'ultim element de la llista"
   ]
  },
  {
   "cell_type": "code",
   "execution_count": 49,
   "id": "61051447-bd17-4bc2-b297-e8a8d9585e8a",
   "metadata": {},
   "outputs": [
    {
     "data": {
      "text/plain": [
       "6"
      ]
     },
     "execution_count": 49,
     "metadata": {},
     "output_type": "execute_result"
    }
   ],
   "source": [
    "llista.pop() # Poses un nombre entre parentesisi per eliminar un concret"
   ]
  },
  {
   "cell_type": "code",
   "execution_count": 50,
   "id": "b1eb2075-2a70-4190-a483-901c98312d3b",
   "metadata": {},
   "outputs": [
    {
     "data": {
      "text/plain": [
       "[1, 3, 'Hola món', None, True, False, -4, [4, 5], 5]"
      ]
     },
     "execution_count": 50,
     "metadata": {},
     "output_type": "execute_result"
    }
   ],
   "source": [
    "llista"
   ]
  },
  {
   "cell_type": "markdown",
   "id": "1871a72d-a82b-47b1-8feb-97c8c62528d4",
   "metadata": {},
   "source": [
    "Elimina la primera aparició d'un caracter"
   ]
  },
  {
   "cell_type": "code",
   "execution_count": 51,
   "id": "bbef6d70-5500-40ba-b04c-3a052fccef96",
   "metadata": {},
   "outputs": [],
   "source": [
    "llista.remove(5)"
   ]
  },
  {
   "cell_type": "code",
   "execution_count": 52,
   "id": "5bef86c9-f787-48dd-9d56-b75f0d13c2d6",
   "metadata": {},
   "outputs": [
    {
     "name": "stdout",
     "output_type": "stream",
     "text": [
      "[1, 3, 'Hola món', None, True, False, -4, [4, 5]]\n"
     ]
    }
   ],
   "source": [
    "print(llista)"
   ]
  },
  {
   "cell_type": "markdown",
   "id": "1d9aaceb-0429-438b-a6ea-9e67fb432f4a",
   "metadata": {},
   "source": [
    "Contar quants elements hi ha iguals a cert element"
   ]
  },
  {
   "cell_type": "code",
   "execution_count": 53,
   "id": "25f5e50b-65bd-4e81-9adc-a55407abdd19",
   "metadata": {},
   "outputs": [
    {
     "data": {
      "text/plain": [
       "0"
      ]
     },
     "execution_count": 53,
     "metadata": {},
     "output_type": "execute_result"
    }
   ],
   "source": [
    "llista.count(5)"
   ]
  },
  {
   "cell_type": "markdown",
   "id": "3111234b-1d71-4f6f-a746-477a41776a3c",
   "metadata": {},
   "source": [
    "Llergada de la llista"
   ]
  },
  {
   "cell_type": "code",
   "execution_count": 54,
   "id": "a2746c73-a518-4985-a7af-185a5f5771b2",
   "metadata": {},
   "outputs": [
    {
     "data": {
      "text/plain": [
       "8"
      ]
     },
     "execution_count": 54,
     "metadata": {},
     "output_type": "execute_result"
    }
   ],
   "source": [
    "len(llista)"
   ]
  },
  {
   "cell_type": "code",
   "execution_count": 56,
   "id": "219bf339-13be-477d-ab0c-f0011dc66caf",
   "metadata": {},
   "outputs": [
    {
     "data": {
      "text/plain": [
       "8"
      ]
     },
     "execution_count": 56,
     "metadata": {},
     "output_type": "execute_result"
    }
   ],
   "source": [
    "llista.__len__() # Metode associat a l'operador len"
   ]
  },
  {
   "cell_type": "markdown",
   "id": "a026b601-8230-4703-b8e5-5255d2871171",
   "metadata": {},
   "source": [
    "Modificar un element"
   ]
  },
  {
   "cell_type": "code",
   "execution_count": 57,
   "id": "95e3a0bf-c10c-41ca-b5b5-6d06ea3e3b42",
   "metadata": {},
   "outputs": [],
   "source": [
    "llista[3] = 32"
   ]
  },
  {
   "cell_type": "code",
   "execution_count": 58,
   "id": "7d4b7456-2f3e-471a-8ab2-b4e368493726",
   "metadata": {},
   "outputs": [
    {
     "data": {
      "text/plain": [
       "[1, 3, 'Hola món', 32, True, False, -4, [4, 5]]"
      ]
     },
     "execution_count": 58,
     "metadata": {},
     "output_type": "execute_result"
    }
   ],
   "source": [
    "llista"
   ]
  },
  {
   "cell_type": "markdown",
   "id": "bc022501-91f8-4bbd-b61b-d18a6595b133",
   "metadata": {
    "jp-MarkdownHeadingCollapsed": true
   },
   "source": [
    "## Tuples\n",
    "Es una llista que no es podrà modificar un cop creada"
   ]
  },
  {
   "cell_type": "code",
   "execution_count": 64,
   "id": "8fd80557-e4e6-4e67-a0d6-b8e3e89793db",
   "metadata": {},
   "outputs": [],
   "source": [
    "tupla = 1, 3, 'Hola món', 32, True, False, -4, [4, 5] # No fa falte els parentesis però es pot"
   ]
  },
  {
   "cell_type": "code",
   "execution_count": 65,
   "id": "fa2bc8bc-6085-4932-a0c5-8ed90978b959",
   "metadata": {},
   "outputs": [
    {
     "data": {
      "text/plain": [
       "(1, 3, 'Hola món', 32, True, False, -4, [4, 5])"
      ]
     },
     "execution_count": 65,
     "metadata": {},
     "output_type": "execute_result"
    }
   ],
   "source": [
    "tupla"
   ]
  },
  {
   "cell_type": "markdown",
   "id": "db512067-3e8a-4f22-a063-6a7b4647f24f",
   "metadata": {},
   "source": [
    "Es immutable per tant no es pot modificar"
   ]
  },
  {
   "cell_type": "code",
   "execution_count": 66,
   "id": "c4763788-1274-4854-a072-1e4affb4ac83",
   "metadata": {},
   "outputs": [
    {
     "ename": "TypeError",
     "evalue": "'tuple' object does not support item assignment",
     "output_type": "error",
     "traceback": [
      "\u001b[0;31m---------------------------------------------------------------------------\u001b[0m",
      "\u001b[0;31mTypeError\u001b[0m                                 Traceback (most recent call last)",
      "Cell \u001b[0;32mIn[66], line 1\u001b[0m\n\u001b[0;32m----> 1\u001b[0m \u001b[43mtupla\u001b[49m\u001b[43m[\u001b[49m\u001b[38;5;241;43m4\u001b[39;49m\u001b[43m]\u001b[49m \u001b[38;5;241m=\u001b[39m \u001b[38;5;241m5\u001b[39m\n",
      "\u001b[0;31mTypeError\u001b[0m: 'tuple' object does not support item assignment"
     ]
    }
   ],
   "source": [
    "tupla[4] = 5"
   ]
  },
  {
   "cell_type": "markdown",
   "id": "ab651b67-27f5-46d1-b163-4dfe43f669ee",
   "metadata": {},
   "source": [
    "Una llista dins d'una tupla es pot modificar"
   ]
  },
  {
   "cell_type": "code",
   "execution_count": 67,
   "id": "413b3e33-7cfc-48bb-87f5-1467e1c4911c",
   "metadata": {},
   "outputs": [
    {
     "data": {
      "text/plain": [
       "4"
      ]
     },
     "execution_count": 67,
     "metadata": {},
     "output_type": "execute_result"
    }
   ],
   "source": [
    "tupla [-1] [0] # Primer element "
   ]
  },
  {
   "cell_type": "code",
   "execution_count": 68,
   "id": "d0e4cf8e-25ae-4a2c-89a4-05325dac7940",
   "metadata": {},
   "outputs": [],
   "source": [
    "tupla [-1] [0] = None"
   ]
  },
  {
   "cell_type": "code",
   "execution_count": 69,
   "id": "039773ec-3878-4546-af63-d3d88feb08d0",
   "metadata": {},
   "outputs": [
    {
     "data": {
      "text/plain": [
       "(1, 3, 'Hola món', 32, True, False, -4, [None, 5])"
      ]
     },
     "execution_count": 69,
     "metadata": {},
     "output_type": "execute_result"
    }
   ],
   "source": [
    "tupla"
   ]
  },
  {
   "cell_type": "markdown",
   "id": "e8c1c251-cf52-480e-8382-539c5217a03d",
   "metadata": {},
   "source": [
    "La llista es molt eficient per fer modificacions, en canvi les tuples son mes eficients a la hora de accedir al les dades. "
   ]
  },
  {
   "cell_type": "markdown",
   "id": "1dc5cba2-9599-4f70-80e8-6a41b9330588",
   "metadata": {
    "jp-MarkdownHeadingCollapsed": true
   },
   "source": [
    "## Taula Hash"
   ]
  },
  {
   "cell_type": "markdown",
   "id": "e1b955c7-863a-4bb3-a343-44b4810b8a3a",
   "metadata": {},
   "source": [
    "Es una llista que es totalment immutable. S'utilitze l'algorisme SHA64.\n",
    "Si conec la clau hash d'un objecte puc saber on està directament. \n",
    "No permet cerques fuzzy.\n",
    "La probabilitat de que hi hagi una colisió es molt baixa."
   ]
  },
  {
   "cell_type": "markdown",
   "id": "3c667e9b-806c-4e54-9da3-910506faa342",
   "metadata": {},
   "source": [
    "Clau hash de una cadena de text"
   ]
  },
  {
   "cell_type": "code",
   "execution_count": 70,
   "id": "1b5fa2e2-54f7-4133-8b3a-e877b25dad95",
   "metadata": {},
   "outputs": [
    {
     "data": {
      "text/plain": [
       "-401600144822668817"
      ]
     },
     "execution_count": 70,
     "metadata": {},
     "output_type": "execute_result"
    }
   ],
   "source": [
    "hash(\"hola\")"
   ]
  },
  {
   "cell_type": "markdown",
   "id": "c4a08bdb-b3b9-421f-802f-459066c473bf",
   "metadata": {},
   "source": [
    "Clau hash d'una tupla"
   ]
  },
  {
   "cell_type": "code",
   "execution_count": 71,
   "id": "14e12c8a-dd80-405f-8dd6-166a9d6c7f3b",
   "metadata": {},
   "outputs": [
    {
     "data": {
      "text/plain": [
       "-1751035682040203594"
      ]
     },
     "execution_count": 71,
     "metadata": {},
     "output_type": "execute_result"
    }
   ],
   "source": [
    "hash((3, 4, 4.2, \"hola\"))"
   ]
  },
  {
   "cell_type": "markdown",
   "id": "a4f3fced-1ac2-455e-8c8e-88314dbf5641",
   "metadata": {},
   "source": [
    "No podem obtenir una clau hash d'una llista que tingui un element mutable"
   ]
  },
  {
   "cell_type": "code",
   "execution_count": 72,
   "id": "e647f42f-2784-41e9-a884-18c801853e2d",
   "metadata": {},
   "outputs": [
    {
     "ename": "TypeError",
     "evalue": "unhashable type: 'list'",
     "output_type": "error",
     "traceback": [
      "\u001b[0;31m---------------------------------------------------------------------------\u001b[0m",
      "\u001b[0;31mTypeError\u001b[0m                                 Traceback (most recent call last)",
      "Cell \u001b[0;32mIn[72], line 1\u001b[0m\n\u001b[0;32m----> 1\u001b[0m \u001b[38;5;28;43mhash\u001b[39;49m\u001b[43m(\u001b[49m\u001b[43m(\u001b[49m\u001b[38;5;241;43m3\u001b[39;49m\u001b[43m,\u001b[49m\u001b[43m \u001b[49m\u001b[38;5;241;43m4\u001b[39;49m\u001b[43m,\u001b[49m\u001b[43m \u001b[49m\u001b[38;5;241;43m4.2\u001b[39;49m\u001b[43m,\u001b[49m\u001b[43m \u001b[49m\u001b[38;5;124;43m\"\u001b[39;49m\u001b[38;5;124;43mhola\u001b[39;49m\u001b[38;5;124;43m\"\u001b[39;49m\u001b[43m,\u001b[49m\u001b[43m \u001b[49m\u001b[43m[\u001b[49m\u001b[38;5;241;43m3\u001b[39;49m\u001b[43m,\u001b[49m\u001b[38;5;241;43m4\u001b[39;49m\u001b[43m]\u001b[49m\u001b[43m)\u001b[49m\u001b[43m)\u001b[49m\n",
      "\u001b[0;31mTypeError\u001b[0m: unhashable type: 'list'"
     ]
    }
   ],
   "source": [
    "hash((3, 4, 4.2, \"hola\", [3,4]))"
   ]
  },
  {
   "cell_type": "markdown",
   "id": "87053b71-ba60-42ef-9014-b78b27806ebf",
   "metadata": {
    "jp-MarkdownHeadingCollapsed": true
   },
   "source": [
    "## **Conjunts**"
   ]
  },
  {
   "cell_type": "markdown",
   "id": "ba0e7aaa-ef78-40ea-83d3-be154e5cd5f6",
   "metadata": {},
   "source": [
    "Un conjunt es una col·leccó d'objectes no repetits i no ordinalitzables(no es poden indexar, ordenar) i immutables(hashables)."
   ]
  },
  {
   "cell_type": "markdown",
   "id": "9d9dc251-3110-4e4f-99f0-9d200c7c96c1",
   "metadata": {},
   "source": [
    "**Conjunt de Euler:**\n",
    "Objectes separats per \",\" i tancats entre claus \"{}\""
   ]
  },
  {
   "cell_type": "code",
   "execution_count": 74,
   "id": "2c056eba-2b5b-4ff8-8ad0-d7abdc393219",
   "metadata": {},
   "outputs": [
    {
     "name": "stdout",
     "output_type": "stream",
     "text": [
      "{0, 1, 2, 3, 4, 14}\n"
     ]
    }
   ],
   "source": [
    "conjunt= {1, 2, 3, 0, 1, 4, 1, 0, 14} \n",
    "print(conjunt) # Elimina duplicats"
   ]
  },
  {
   "cell_type": "code",
   "execution_count": 77,
   "id": "4c52ca4f-2e78-47e2-b040-fc15d12135f2",
   "metadata": {},
   "outputs": [
    {
     "name": "stdout",
     "output_type": "stream",
     "text": [
      "{0, 1, 2, 3, 4, 'adeu', 'hola'}\n"
     ]
    }
   ],
   "source": [
    "conjunt = {\"hola\", 4,\"adeu\", 3, 0, 1, 2, 2, \"hola\", 4}\n",
    "print(conjunt) # Ens ondena directament el conjunt"
   ]
  },
  {
   "cell_type": "markdown",
   "id": "122a83c2-1f72-4e6e-9751-407c6fd33fb1",
   "metadata": {},
   "source": [
    "Eliminar un elemnet al conjunt"
   ]
  },
  {
   "cell_type": "code",
   "execution_count": 78,
   "id": "7320f4f3-c372-48ee-b447-f1b6fa266708",
   "metadata": {},
   "outputs": [
    {
     "data": {
      "text/plain": [
       "0"
      ]
     },
     "execution_count": 78,
     "metadata": {},
     "output_type": "execute_result"
    }
   ],
   "source": [
    "conjunt.pop()"
   ]
  },
  {
   "cell_type": "code",
   "execution_count": 79,
   "id": "f7ef4b4c-d9c7-433e-a394-3c68972a7d22",
   "metadata": {},
   "outputs": [
    {
     "data": {
      "text/plain": [
       "{1, 2, 3, 4, 'adeu', 'hola'}"
      ]
     },
     "execution_count": 79,
     "metadata": {},
     "output_type": "execute_result"
    }
   ],
   "source": [
    "conjunt"
   ]
  },
  {
   "cell_type": "markdown",
   "id": "e011dc5f-3508-4736-bcb9-8ad171db3632",
   "metadata": {},
   "source": [
    "Afegir un element al conjunt"
   ]
  },
  {
   "cell_type": "code",
   "execution_count": 80,
   "id": "8c464829-b2ff-4329-9e33-0f20e943f9e8",
   "metadata": {},
   "outputs": [],
   "source": [
    "conjunt.add(5)"
   ]
  },
  {
   "cell_type": "code",
   "execution_count": 81,
   "id": "5b8bc6d1-3901-4165-8f69-9c812c3387fa",
   "metadata": {},
   "outputs": [
    {
     "data": {
      "text/plain": [
       "{1, 2, 3, 4, 5, 'adeu', 'hola'}"
      ]
     },
     "execution_count": 81,
     "metadata": {},
     "output_type": "execute_result"
    }
   ],
   "source": [
    "conjunt"
   ]
  },
  {
   "cell_type": "markdown",
   "id": "06a73ebb-7d02-4ff3-8f23-6cd24a4e10e1",
   "metadata": {},
   "source": [
    "Es sol utilitzar per quedar-te amb els elements no repetits d'una llista."
   ]
  },
  {
   "cell_type": "markdown",
   "id": "d9eb4f79-0574-454c-b757-280c1104e664",
   "metadata": {},
   "source": [
    "Ex: Descomposició en numeros primaris"
   ]
  },
  {
   "cell_type": "code",
   "execution_count": 82,
   "id": "9f9406cf-a7a2-4582-866a-9af5f432c181",
   "metadata": {},
   "outputs": [],
   "source": [
    "conjunt2 = {\"hola\",\"adeu\",\"HOLA\",\"ADEU\"}"
   ]
  },
  {
   "cell_type": "markdown",
   "id": "2b3c8112-3527-4bd6-b6a2-42b02e406dcb",
   "metadata": {},
   "source": [
    "Algebra de conjunts"
   ]
  },
  {
   "cell_type": "markdown",
   "id": "9fc7a65c-a0b7-4407-83f3-cc162d7a5aa0",
   "metadata": {},
   "source": [
    "Intersecció:"
   ]
  },
  {
   "cell_type": "code",
   "execution_count": 83,
   "id": "c44e90fe-6e2e-49b1-ad80-95715a93e1bb",
   "metadata": {},
   "outputs": [
    {
     "data": {
      "text/plain": [
       "{'adeu', 'hola'}"
      ]
     },
     "execution_count": 83,
     "metadata": {},
     "output_type": "execute_result"
    }
   ],
   "source": [
    "conjunt & conjunt2"
   ]
  },
  {
   "cell_type": "markdown",
   "id": "68ea2e2f-0d98-49e4-a8e9-04e686e1994e",
   "metadata": {},
   "source": [
    "Unió de dos elements "
   ]
  },
  {
   "cell_type": "code",
   "execution_count": 84,
   "id": "7e48a539-c2b6-4a5b-af76-ad31a312d468",
   "metadata": {},
   "outputs": [
    {
     "data": {
      "text/plain": [
       "{1, 2, 3, 4, 5, 'ADEU', 'HOLA', 'adeu', 'hola'}"
      ]
     },
     "execution_count": 84,
     "metadata": {},
     "output_type": "execute_result"
    }
   ],
   "source": [
    "conjunt | conjunt2"
   ]
  },
  {
   "cell_type": "markdown",
   "id": "41d36d3b-cac4-4110-baf5-96434a22f438",
   "metadata": {},
   "source": [
    "Diferencia"
   ]
  },
  {
   "cell_type": "code",
   "execution_count": 85,
   "id": "d5aa0bbf-2143-4e55-8266-9323aa78b8d2",
   "metadata": {},
   "outputs": [
    {
     "data": {
      "text/plain": [
       "{1, 2, 3, 4, 5}"
      ]
     },
     "execution_count": 85,
     "metadata": {},
     "output_type": "execute_result"
    }
   ],
   "source": [
    "conjunt - conjunt2"
   ]
  },
  {
   "cell_type": "markdown",
   "id": "443fa429-27af-403a-a865-e8925cc1c312",
   "metadata": {},
   "source": [
    "Operador comparació per veure si un conjunt està dins de l'altre"
   ]
  },
  {
   "cell_type": "code",
   "execution_count": 86,
   "id": "da2c48bb-fe13-4eda-880f-407ea31bdb6a",
   "metadata": {},
   "outputs": [
    {
     "data": {
      "text/plain": [
       "{1, 2, 3, 4, 5, 'adeu', 'hola'}"
      ]
     },
     "execution_count": 86,
     "metadata": {},
     "output_type": "execute_result"
    }
   ],
   "source": [
    "conjunt"
   ]
  },
  {
   "cell_type": "code",
   "execution_count": 88,
   "id": "dd96e1f6-a8d7-44d5-8ed2-0bd07863d01d",
   "metadata": {},
   "outputs": [
    {
     "data": {
      "text/plain": [
       "True"
      ]
     },
     "execution_count": 88,
     "metadata": {},
     "output_type": "execute_result"
    }
   ],
   "source": [
    "conjunt > {1,2,3,4,5,\"adeu\"} # Es major ja que els elements de sobre estan incluits"
   ]
  },
  {
   "cell_type": "code",
   "execution_count": 89,
   "id": "e6ca8de4-f4d1-4ef4-b6f5-9dc9ceab225f",
   "metadata": {},
   "outputs": [
    {
     "data": {
      "text/plain": [
       "False"
      ]
     },
     "execution_count": 89,
     "metadata": {},
     "output_type": "execute_result"
    }
   ],
   "source": [
    "conjunt > {1,2,3,4,5,\"adeu\",\"hola\", \"hola\"} #No es major"
   ]
  },
  {
   "cell_type": "markdown",
   "id": "f31bdeb9-5a3d-48cf-8523-3ebaf10ce5b4",
   "metadata": {},
   "source": [
    "No puc crear un conjunt de conjunts ja que és mutable."
   ]
  },
  {
   "cell_type": "code",
   "execution_count": 90,
   "id": "7430a1f8-c8b5-49ec-8ddd-d704be87e9b8",
   "metadata": {},
   "outputs": [
    {
     "ename": "TypeError",
     "evalue": "unhashable type: 'set'",
     "output_type": "error",
     "traceback": [
      "\u001b[0;31m---------------------------------------------------------------------------\u001b[0m",
      "\u001b[0;31mTypeError\u001b[0m                                 Traceback (most recent call last)",
      "Cell \u001b[0;32mIn[90], line 1\u001b[0m\n\u001b[0;32m----> 1\u001b[0m conjunt3 \u001b[38;5;241m=\u001b[39m {\u001b[38;5;241m4\u001b[39m,\u001b[38;5;241m2\u001b[39m,\u001b[38;5;124m\"\u001b[39m\u001b[38;5;124mhola\u001b[39m\u001b[38;5;124m\"\u001b[39m,(\u001b[38;5;241m2\u001b[39m,\u001b[38;5;241m3\u001b[39m),conjunt}\n",
      "\u001b[0;31mTypeError\u001b[0m: unhashable type: 'set'"
     ]
    }
   ],
   "source": [
    "conjunt3 = {4,2,\"hola\",(2,3),conjunt} "
   ]
  },
  {
   "cell_type": "code",
   "execution_count": 91,
   "id": "ee152b53-2cf6-40b3-a381-4a2909da9dd3",
   "metadata": {},
   "outputs": [],
   "source": [
    "conjunto = {2,\"hola\",45,\"apa\"}"
   ]
  },
  {
   "cell_type": "markdown",
   "id": "4665ff0a-082d-4a2a-826f-493d6faac4e7",
   "metadata": {},
   "source": [
    "Funció pop() per eliminar un element"
   ]
  },
  {
   "cell_type": "code",
   "execution_count": 92,
   "id": "00933d9c-d409-416e-8186-e0ced76626ae",
   "metadata": {},
   "outputs": [
    {
     "data": {
      "text/plain": [
       "{2, 45, 'apa', 'hola'}"
      ]
     },
     "execution_count": 92,
     "metadata": {},
     "output_type": "execute_result"
    }
   ],
   "source": [
    "conjunto"
   ]
  },
  {
   "cell_type": "code",
   "execution_count": 93,
   "id": "9cdcd186-832c-4966-b8d0-265dced5a56c",
   "metadata": {},
   "outputs": [
    {
     "data": {
      "text/plain": [
       "2"
      ]
     },
     "execution_count": 93,
     "metadata": {},
     "output_type": "execute_result"
    }
   ],
   "source": [
    "conjunto.pop()"
   ]
  },
  {
   "cell_type": "code",
   "execution_count": 94,
   "id": "95cc4552-3858-4a0c-9d98-f54c3e2fa31a",
   "metadata": {},
   "outputs": [
    {
     "data": {
      "text/plain": [
       "{45, 'apa', 'hola'}"
      ]
     },
     "execution_count": 94,
     "metadata": {},
     "output_type": "execute_result"
    }
   ],
   "source": [
    "conjunto"
   ]
  },
  {
   "cell_type": "markdown",
   "id": "d5402e04-2166-46c8-aeba-b677c56a089f",
   "metadata": {},
   "source": [
    "Unió de conjunts"
   ]
  },
  {
   "cell_type": "code",
   "execution_count": 95,
   "id": "9fa40c71-3d45-4c90-9b34-204ba56e6afc",
   "metadata": {},
   "outputs": [
    {
     "data": {
      "text/plain": [
       "{45, 'adeu', 'apa', 'hola', 'sis'}"
      ]
     },
     "execution_count": 95,
     "metadata": {},
     "output_type": "execute_result"
    }
   ],
   "source": [
    "conjunto.union({45,\"sis\",\"adeu\"})"
   ]
  },
  {
   "cell_type": "markdown",
   "id": "18017a5f-5172-4eac-835d-2702759ff5de",
   "metadata": {},
   "source": [
    "Intersecció de conjunts"
   ]
  },
  {
   "cell_type": "code",
   "execution_count": 96,
   "id": "8c3a16b5-34ae-43f5-81c0-8a194fddacdc",
   "metadata": {},
   "outputs": [
    {
     "data": {
      "text/plain": [
       "{45}"
      ]
     },
     "execution_count": 96,
     "metadata": {},
     "output_type": "execute_result"
    }
   ],
   "source": [
    "conjunto.intersection({45,'sis','adeu'})"
   ]
  },
  {
   "cell_type": "markdown",
   "id": "a55e08a9-be55-40f7-8ccf-83ef7b1eabd5",
   "metadata": {},
   "source": [
    "Conjunt congelat "
   ]
  },
  {
   "cell_type": "code",
   "execution_count": 97,
   "id": "cc1f6e9c-d432-4949-95c8-dc558e42dd01",
   "metadata": {},
   "outputs": [],
   "source": [
    "frozen = frozenset(conjunto)"
   ]
  },
  {
   "cell_type": "code",
   "execution_count": 100,
   "id": "2234f8b7-dbf6-4e71-8438-e4dde62f2346",
   "metadata": {},
   "outputs": [],
   "source": [
    "conjunto2 = {67,\"holamon\",frozen}"
   ]
  },
  {
   "cell_type": "code",
   "execution_count": 101,
   "id": "aa7e1430-3bcd-4d6b-876b-8d8a1aeaefce",
   "metadata": {},
   "outputs": [
    {
     "data": {
      "text/plain": [
       "{67, frozenset({45, 'apa', 'hola'}), 'holamon'}"
      ]
     },
     "execution_count": 101,
     "metadata": {},
     "output_type": "execute_result"
    }
   ],
   "source": [
    "conjunto2"
   ]
  },
  {
   "cell_type": "markdown",
   "id": "6c7cef63-9a9f-4165-ba11-3f93ce0635ed",
   "metadata": {},
   "source": [
    "Nota: (molt útil)"
   ]
  },
  {
   "cell_type": "code",
   "execution_count": 102,
   "id": "d1eb85e8-7712-4b67-a268-4cae055deeaf",
   "metadata": {},
   "outputs": [],
   "source": [
    "a,b,c = 43, 17, 31"
   ]
  },
  {
   "cell_type": "code",
   "execution_count": 103,
   "id": "3ad43cda-257a-4ff7-a7e2-55ad9bf1476e",
   "metadata": {},
   "outputs": [
    {
     "data": {
      "text/plain": [
       "43"
      ]
     },
     "execution_count": 103,
     "metadata": {},
     "output_type": "execute_result"
    }
   ],
   "source": [
    "a"
   ]
  },
  {
   "cell_type": "code",
   "execution_count": 104,
   "id": "15a419d8-1293-4733-8ec8-c3639fd5cb86",
   "metadata": {},
   "outputs": [
    {
     "data": {
      "text/plain": [
       "17"
      ]
     },
     "execution_count": 104,
     "metadata": {},
     "output_type": "execute_result"
    }
   ],
   "source": [
    "b"
   ]
  },
  {
   "cell_type": "code",
   "execution_count": 105,
   "id": "61b10f24-b5e7-4dac-89da-bb81b87b054e",
   "metadata": {},
   "outputs": [
    {
     "data": {
      "text/plain": [
       "31"
      ]
     },
     "execution_count": 105,
     "metadata": {},
     "output_type": "execute_result"
    }
   ],
   "source": [
    "c"
   ]
  },
  {
   "cell_type": "code",
   "execution_count": 106,
   "id": "13ad4de8-dedf-4048-af18-e3215945f621",
   "metadata": {},
   "outputs": [],
   "source": [
    "b,c,a = a,b,c"
   ]
  },
  {
   "cell_type": "code",
   "execution_count": 107,
   "id": "36ad30c9-b7ca-4ee6-85ea-b45dc5b96c5c",
   "metadata": {},
   "outputs": [
    {
     "data": {
      "text/plain": [
       "43"
      ]
     },
     "execution_count": 107,
     "metadata": {},
     "output_type": "execute_result"
    }
   ],
   "source": [
    "b"
   ]
  },
  {
   "cell_type": "markdown",
   "id": "9892a522-f81c-4a14-83f7-9d1e3be21b18",
   "metadata": {
    "jp-MarkdownHeadingCollapsed": true
   },
   "source": [
    "## Diccionari de python"
   ]
  },
  {
   "cell_type": "markdown",
   "id": "18512f72-9ad3-432b-aace-9be046cf8ec6",
   "metadata": {},
   "source": [
    "Per buscar en un diccionari"
   ]
  },
  {
   "cell_type": "code",
   "execution_count": 109,
   "id": "998afc7e-6de6-4fe7-975b-d46fddd8f405",
   "metadata": {},
   "outputs": [],
   "source": [
    "diccionari = {1 : 'u', 2: '2', 749: 'DCCIL',}"
   ]
  },
  {
   "cell_type": "code",
   "execution_count": 110,
   "id": "771cae80-7d25-4f4c-9323-2e6d13ebb4a2",
   "metadata": {},
   "outputs": [
    {
     "data": {
      "text/plain": [
       "'u'"
      ]
     },
     "execution_count": 110,
     "metadata": {},
     "output_type": "execute_result"
    }
   ],
   "source": [
    "diccionari[1]"
   ]
  },
  {
   "cell_type": "code",
   "execution_count": 111,
   "id": "cf1101a7-8a5e-41a0-a28f-cb379b14c926",
   "metadata": {},
   "outputs": [
    {
     "data": {
      "text/plain": [
       "'2'"
      ]
     },
     "execution_count": 111,
     "metadata": {},
     "output_type": "execute_result"
    }
   ],
   "source": [
    "diccionari[2]"
   ]
  },
  {
   "cell_type": "code",
   "execution_count": 112,
   "id": "ee6348e5-cd2d-4b3a-8dad-e4d5143ac4d8",
   "metadata": {},
   "outputs": [
    {
     "ename": "KeyError",
     "evalue": "0",
     "output_type": "error",
     "traceback": [
      "\u001b[0;31m---------------------------------------------------------------------------\u001b[0m",
      "\u001b[0;31mKeyError\u001b[0m                                  Traceback (most recent call last)",
      "Cell \u001b[0;32mIn[112], line 1\u001b[0m\n\u001b[0;32m----> 1\u001b[0m \u001b[43mdiccionari\u001b[49m\u001b[43m[\u001b[49m\u001b[38;5;241;43m0\u001b[39;49m\u001b[43m]\u001b[49m\n",
      "\u001b[0;31mKeyError\u001b[0m: 0"
     ]
    }
   ],
   "source": [
    "diccionari[0]"
   ]
  },
  {
   "cell_type": "code",
   "execution_count": 113,
   "id": "184f55f1-0656-4e10-82ec-aba26d3904c7",
   "metadata": {},
   "outputs": [
    {
     "data": {
      "text/plain": [
       "False"
      ]
     },
     "execution_count": 113,
     "metadata": {},
     "output_type": "execute_result"
    }
   ],
   "source": [
    "0 in diccionari"
   ]
  },
  {
   "cell_type": "code",
   "execution_count": 114,
   "id": "6f4be74a-ff9a-4575-9ae1-466c059f6c6d",
   "metadata": {},
   "outputs": [
    {
     "data": {
      "text/plain": [
       "True"
      ]
     },
     "execution_count": 114,
     "metadata": {},
     "output_type": "execute_result"
    }
   ],
   "source": [
    "749 in diccionari"
   ]
  },
  {
   "cell_type": "code",
   "execution_count": 116,
   "id": "0ebd3558-50d9-4e7d-a944-24c4abfccec4",
   "metadata": {},
   "outputs": [
    {
     "data": {
      "text/plain": [
       "False"
      ]
     },
     "execution_count": 116,
     "metadata": {},
     "output_type": "execute_result"
    }
   ],
   "source": [
    "'DCCIL' in diccionari # Es una definició"
   ]
  },
  {
   "cell_type": "code",
   "execution_count": 117,
   "id": "4d523eae-8fb7-4cb6-af15-786c342bdec4",
   "metadata": {},
   "outputs": [],
   "source": [
    "diccionari[0] = None"
   ]
  },
  {
   "cell_type": "code",
   "execution_count": 119,
   "id": "4a199d04-19f8-4c40-adb2-9550aaf65e68",
   "metadata": {},
   "outputs": [
    {
     "data": {
      "text/plain": [
       "{1: 'u', 2: '2', 749: 'DCCIL', 0: None}"
      ]
     },
     "execution_count": 119,
     "metadata": {},
     "output_type": "execute_result"
    }
   ],
   "source": [
    "diccionari"
   ]
  },
  {
   "cell_type": "code",
   "execution_count": 120,
   "id": "50e3baa5-aee2-4bac-85c9-fd77c3b23867",
   "metadata": {},
   "outputs": [
    {
     "data": {
      "text/plain": [
       "dict_values(['u', '2', 'DCCIL', None])"
      ]
     },
     "execution_count": 120,
     "metadata": {},
     "output_type": "execute_result"
    }
   ],
   "source": [
    "diccionari.values()"
   ]
  },
  {
   "cell_type": "code",
   "execution_count": 121,
   "id": "06dccdf4-d9af-4582-876b-241f3a789054",
   "metadata": {},
   "outputs": [
    {
     "data": {
      "text/plain": [
       "dict_items([(1, 'u'), (2, '2'), (749, 'DCCIL'), (0, None)])"
      ]
     },
     "execution_count": 121,
     "metadata": {},
     "output_type": "execute_result"
    }
   ],
   "source": [
    "diccionari.items()"
   ]
  },
  {
   "cell_type": "code",
   "execution_count": 122,
   "id": "d59ddfcb-cc15-4d85-9f78-36ae030256bb",
   "metadata": {},
   "outputs": [
    {
     "data": {
      "text/plain": [
       "dict_keys([1, 2, 749, 0])"
      ]
     },
     "execution_count": 122,
     "metadata": {},
     "output_type": "execute_result"
    }
   ],
   "source": [
    "diccionari.keys()"
   ]
  },
  {
   "cell_type": "code",
   "execution_count": 123,
   "id": "51859df9-8e6c-4fea-be28-19919438331c",
   "metadata": {},
   "outputs": [],
   "source": [
    "diccionari[None]= 'nada'"
   ]
  },
  {
   "cell_type": "code",
   "execution_count": 124,
   "id": "f0d0dacc-6890-48b2-9907-87ed262f5edc",
   "metadata": {},
   "outputs": [
    {
     "data": {
      "text/plain": [
       "{1: 'u', 2: '2', 749: 'DCCIL', 0: None, None: 'nada'}"
      ]
     },
     "execution_count": 124,
     "metadata": {},
     "output_type": "execute_result"
    }
   ],
   "source": [
    "diccionari"
   ]
  },
  {
   "cell_type": "markdown",
   "id": "4d3d7119-fdcf-4ba9-bd84-43fd234da399",
   "metadata": {},
   "source": [
    "Crear llistes... buides"
   ]
  },
  {
   "cell_type": "code",
   "execution_count": 125,
   "id": "5c1a46ae-be08-4e74-b051-9008adf58cdc",
   "metadata": {},
   "outputs": [],
   "source": [
    "lista = list()"
   ]
  },
  {
   "cell_type": "code",
   "execution_count": 126,
   "id": "fb1f06a8-ec16-4f1a-9c2c-f6e4b55a6b86",
   "metadata": {},
   "outputs": [
    {
     "data": {
      "text/plain": [
       "[]"
      ]
     },
     "execution_count": 126,
     "metadata": {},
     "output_type": "execute_result"
    }
   ],
   "source": [
    "lista"
   ]
  },
  {
   "cell_type": "code",
   "execution_count": 127,
   "id": "2fe4e65e-3bc1-4734-b22a-f691b3b82295",
   "metadata": {},
   "outputs": [],
   "source": [
    "lista = []"
   ]
  },
  {
   "cell_type": "code",
   "execution_count": 128,
   "id": "7f18531f-0e1d-4124-bceb-3675ada481d3",
   "metadata": {},
   "outputs": [
    {
     "data": {
      "text/plain": [
       "[]"
      ]
     },
     "execution_count": 128,
     "metadata": {},
     "output_type": "execute_result"
    }
   ],
   "source": [
    "lista"
   ]
  },
  {
   "cell_type": "code",
   "execution_count": 129,
   "id": "ec4c9f02-3d7d-4b47-b6db-b6cf29964017",
   "metadata": {},
   "outputs": [],
   "source": [
    "tupla = tuple()"
   ]
  },
  {
   "cell_type": "code",
   "execution_count": 130,
   "id": "e86b05fc-904c-4908-916f-f8f463385431",
   "metadata": {},
   "outputs": [],
   "source": [
    "tupla = ()"
   ]
  },
  {
   "cell_type": "code",
   "execution_count": 131,
   "id": "c48a67d8-bfd9-4157-9f63-28ac1b2a5a38",
   "metadata": {},
   "outputs": [
    {
     "data": {
      "text/plain": [
       "()"
      ]
     },
     "execution_count": 131,
     "metadata": {},
     "output_type": "execute_result"
    }
   ],
   "source": [
    "tupla"
   ]
  },
  {
   "cell_type": "code",
   "execution_count": 137,
   "id": "9723dc91-7264-45c2-a38e-7ffa15573a99",
   "metadata": {},
   "outputs": [],
   "source": [
    "conjunt = set()"
   ]
  },
  {
   "cell_type": "code",
   "execution_count": 133,
   "id": "a003d916-2cbb-4021-9864-a0a9dde3e92a",
   "metadata": {},
   "outputs": [
    {
     "data": {
      "text/plain": [
       "set()"
      ]
     },
     "execution_count": 133,
     "metadata": {},
     "output_type": "execute_result"
    }
   ],
   "source": [
    "conjunt"
   ]
  },
  {
   "cell_type": "code",
   "execution_count": 134,
   "id": "1914e0e6-c4bc-404a-80ad-3dc7343fbafd",
   "metadata": {},
   "outputs": [],
   "source": [
    "conjunt = {}"
   ]
  },
  {
   "cell_type": "code",
   "execution_count": 135,
   "id": "e4d805f8-ef0b-4482-91cd-bd161d82d2c9",
   "metadata": {},
   "outputs": [
    {
     "data": {
      "text/plain": [
       "{}"
      ]
     },
     "execution_count": 135,
     "metadata": {},
     "output_type": "execute_result"
    }
   ],
   "source": [
    "conjunt"
   ]
  },
  {
   "cell_type": "code",
   "execution_count": 136,
   "id": "463102dc-1d0c-41b5-93f6-dae4f767e54b",
   "metadata": {},
   "outputs": [
    {
     "data": {
      "text/plain": [
       "dict"
      ]
     },
     "execution_count": 136,
     "metadata": {},
     "output_type": "execute_result"
    }
   ],
   "source": [
    "type(conjunt)"
   ]
  },
  {
   "cell_type": "code",
   "execution_count": 138,
   "id": "0a3d7cb9-308c-413a-addb-b274631dbc66",
   "metadata": {},
   "outputs": [],
   "source": [
    "conjunt = set()"
   ]
  },
  {
   "cell_type": "code",
   "execution_count": 139,
   "id": "6d47ea22-a23e-4ddd-bce2-dfd651c0cc36",
   "metadata": {},
   "outputs": [],
   "source": [
    "conjunt.add(35)"
   ]
  },
  {
   "cell_type": "code",
   "execution_count": 140,
   "id": "a3b811f9-9d21-400e-93e2-ee51061982ae",
   "metadata": {},
   "outputs": [],
   "source": [
    "conjunt.add(42)"
   ]
  },
  {
   "cell_type": "code",
   "execution_count": 145,
   "id": "804a1bfe-1aa6-48af-b0d2-840ea9e38e55",
   "metadata": {},
   "outputs": [
    {
     "ename": "TypeError",
     "evalue": "unhashable type: 'set'",
     "output_type": "error",
     "traceback": [
      "\u001b[0;31m---------------------------------------------------------------------------\u001b[0m",
      "\u001b[0;31mTypeError\u001b[0m                                 Traceback (most recent call last)",
      "Cell \u001b[0;32mIn[145], line 1\u001b[0m\n\u001b[0;32m----> 1\u001b[0m \u001b[43mconjunt\u001b[49m\u001b[38;5;241;43m.\u001b[39;49m\u001b[43madd\u001b[49m\u001b[43m(\u001b[49m\u001b[43m(\u001b[49m\u001b[38;5;241;43m1\u001b[39;49m\u001b[43m,\u001b[49m\u001b[38;5;241;43m2\u001b[39;49m\u001b[43m,\u001b[49m\u001b[38;5;241;43m3\u001b[39;49m\u001b[43m,\u001b[49m\u001b[38;5;28;43mset\u001b[39;49m\u001b[43m(\u001b[49m\u001b[43m)\u001b[49m\u001b[43m,\u001b[49m\u001b[43m)\u001b[49m\u001b[43m)\u001b[49m\n",
      "\u001b[0;31mTypeError\u001b[0m: unhashable type: 'set'"
     ]
    }
   ],
   "source": [
    "conjunt.add((1,2,3,set(),))"
   ]
  },
  {
   "cell_type": "code",
   "execution_count": 142,
   "id": "ccdc60c7-b327-476f-929d-00c4d3756ddb",
   "metadata": {},
   "outputs": [
    {
     "data": {
      "text/plain": [
       "{(1, 2, 3, None), 35, 42}"
      ]
     },
     "execution_count": 142,
     "metadata": {},
     "output_type": "execute_result"
    }
   ],
   "source": [
    "conjunt"
   ]
  },
  {
   "cell_type": "code",
   "execution_count": 143,
   "id": "27f6c9d4-c7b7-4e66-8b56-eff4c004c054",
   "metadata": {},
   "outputs": [
    {
     "ename": "TypeError",
     "evalue": "unhashable type: 'list'",
     "output_type": "error",
     "traceback": [
      "\u001b[0;31m---------------------------------------------------------------------------\u001b[0m",
      "\u001b[0;31mTypeError\u001b[0m                                 Traceback (most recent call last)",
      "Cell \u001b[0;32mIn[143], line 1\u001b[0m\n\u001b[0;32m----> 1\u001b[0m \u001b[43mconjunt\u001b[49m\u001b[38;5;241;43m.\u001b[39;49m\u001b[43madd\u001b[49m\u001b[43m(\u001b[49m\u001b[43m[\u001b[49m\u001b[38;5;241;43m4\u001b[39;49m\u001b[43m,\u001b[49m\u001b[38;5;241;43m5\u001b[39;49m\u001b[43m,\u001b[49m\u001b[38;5;241;43m6\u001b[39;49m\u001b[43m]\u001b[49m\u001b[43m)\u001b[49m\n",
      "\u001b[0;31mTypeError\u001b[0m: unhashable type: 'list'"
     ]
    }
   ],
   "source": [
    "conjunt.add([4,5,6])"
   ]
  },
  {
   "cell_type": "markdown",
   "id": "f30abb31-269e-41d4-8246-dff86307da34",
   "metadata": {
    "jp-MarkdownHeadingCollapsed": true
   },
   "source": [
    "## Cadenes de text"
   ]
  },
  {
   "cell_type": "code",
   "execution_count": 146,
   "id": "98d9790f-3573-4e2b-a008-e19356f1311d",
   "metadata": {},
   "outputs": [
    {
     "data": {
      "text/plain": [
       "'Hola soc en Biel'"
      ]
     },
     "execution_count": 146,
     "metadata": {},
     "output_type": "execute_result"
    }
   ],
   "source": [
    "'Hola soc en Biel'"
   ]
  },
  {
   "cell_type": "code",
   "execution_count": 148,
   "id": "2e551646-4d06-4176-97bc-74037c03b196",
   "metadata": {},
   "outputs": [
    {
     "data": {
      "text/plain": [
       "\"biel bernal O'Callahan\""
      ]
     },
     "execution_count": 148,
     "metadata": {},
     "output_type": "execute_result"
    }
   ],
   "source": [
    "\"biel bernal O'Callahan\" # En aquest cas hem de fer serivir les comes dobles"
   ]
  },
  {
   "cell_type": "code",
   "execution_count": 149,
   "id": "1bf094a3-af6e-43e0-b6be-68fdef8103de",
   "metadata": {},
   "outputs": [
    {
     "data": {
      "text/plain": [
       "'Biel Bernal \"implecable\"'"
      ]
     },
     "execution_count": 149,
     "metadata": {},
     "output_type": "execute_result"
    }
   ],
   "source": [
    "'Biel Bernal \"implecable\"'"
   ]
  },
  {
   "cell_type": "markdown",
   "id": "85f581a1-b2ea-453c-b32a-9a2300b62321",
   "metadata": {},
   "source": [
    "Si necesitem posar els dos tipus de comes a la mateixa cadena"
   ]
  },
  {
   "cell_type": "markdown",
   "id": "a594ebab-7769-4d6e-b3c1-d6aef4b5288f",
   "metadata": {},
   "source": [
    "Sequencies d'escapament"
   ]
  },
  {
   "cell_type": "code",
   "execution_count": 154,
   "id": "d0d4f467-ba15-42c6-8b97-b6a4d6ea1dff",
   "metadata": {},
   "outputs": [
    {
     "data": {
      "text/plain": [
       "\"Biel O'Callahan\""
      ]
     },
     "execution_count": 154,
     "metadata": {},
     "output_type": "execute_result"
    }
   ],
   "source": [
    "\"Biel O\\'Callahan\" # La barra invertida elimina la acció del seguent caracter"
   ]
  },
  {
   "cell_type": "code",
   "execution_count": 152,
   "id": "c6ce2dbc-4f93-4d58-a6ca-5ff34f8f9ad0",
   "metadata": {},
   "outputs": [
    {
     "data": {
      "text/plain": [
       "'Bielaqui segueixo amb una altre línea'"
      ]
     },
     "execution_count": 152,
     "metadata": {},
     "output_type": "execute_result"
    }
   ],
   "source": [
    "'Biel \\\n",
    "aqui segueixo amb una altre línea'"
   ]
  },
  {
   "cell_type": "markdown",
   "id": "6ce9ad64-6ea5-43ca-967a-044221cf7c32",
   "metadata": {},
   "source": [
    "Més sequencies d'escampament"
   ]
  },
  {
   "cell_type": "code",
   "execution_count": 158,
   "id": "c883bd78-914b-4067-b115-d9c745fc1b62",
   "metadata": {},
   "outputs": [
    {
     "ename": "SyntaxError",
     "evalue": "unexpected character after line continuation character (664497968.py, line 1)",
     "output_type": "error",
     "traceback": [
      "\u001b[0;36m  Cell \u001b[0;32mIn[158], line 1\u001b[0;36m\u001b[0m\n\u001b[0;31m    \\t\"hola\" \\n \" hola\"\u001b[0m\n\u001b[0m     ^\u001b[0m\n\u001b[0;31mSyntaxError\u001b[0m\u001b[0;31m:\u001b[0m unexpected character after line continuation character\n"
     ]
    }
   ],
   "source": [
    "\\t\"hola\" \\n \" hola\""
   ]
  },
  {
   "cell_type": "code",
   "execution_count": 161,
   "id": "6dc924c0-79e0-4b19-87be-0bc66468c07b",
   "metadata": {},
   "outputs": [
    {
     "name": "stdout",
     "output_type": "stream",
     "text": [
      "\n"
     ]
    }
   ],
   "source": [
    "print('\\b')"
   ]
  },
  {
   "cell_type": "code",
   "execution_count": 165,
   "id": "888e3d7f-d4ec-4681-9b31-684dc05ec48f",
   "metadata": {},
   "outputs": [
    {
     "name": "stdout",
     "output_type": "stream",
     "text": [
      "xxxx soc en biel i tinc 21 anys \n"
     ]
    }
   ],
   "source": [
    "print('Hola soc en biel i tinc 21 anys \\rxxxx') # Torna a colocar el cursor al principi de la linea"
   ]
  },
  {
   "cell_type": "markdown",
   "id": "bf746871-2633-4e7d-ba0e-0142a5c4e895",
   "metadata": {},
   "source": [
    "Per posar una cadena que te mes d'una linea"
   ]
  },
  {
   "cell_type": "code",
   "execution_count": 166,
   "id": "f7ac930e-88dd-4369-8622-3e570b465140",
   "metadata": {},
   "outputs": [],
   "source": [
    "cadenallarga = '''\n",
    "Aquesta es una cadena llarga\n",
    "que pot tenir moltes lineas\n",
    "se seol utilitzar per documentar fitxers\n",
    "tambe pot servir \\r nunca  '''"
   ]
  },
  {
   "cell_type": "code",
   "execution_count": 167,
   "id": "e91bcfcf-0b7d-4e29-a624-ff6324abd499",
   "metadata": {},
   "outputs": [
    {
     "name": "stdout",
     "output_type": "stream",
     "text": [
      "\n",
      "Aquesta es una cadena llarga\n",
      "que pot tenir moltes lineas\n",
      "se seol utilitzar per documentar fitxers\n",
      " nunca  t servir \n"
     ]
    }
   ],
   "source": [
    "print(cadenallarga)"
   ]
  },
  {
   "cell_type": "markdown",
   "id": "471bd21c-6d15-4ba4-8cbe-b62493c8c986",
   "metadata": {},
   "source": [
    "**Multiplicació de cadenes.** "
   ]
  },
  {
   "cell_type": "code",
   "execution_count": 168,
   "id": "658083bc-ceaf-432c-8416-e2e712281d04",
   "metadata": {},
   "outputs": [
    {
     "data": {
      "text/plain": [
       "'pdbqpdbqpdbqpdbqpdbqpdbqpdbqpdbq'"
      ]
     },
     "execution_count": 168,
     "metadata": {},
     "output_type": "execute_result"
    }
   ],
   "source": [
    "\"pdbq\" * 8"
   ]
  },
  {
   "cell_type": "code",
   "execution_count": 169,
   "id": "d860cba0-5056-49d6-b08d-11bf9542fe7e",
   "metadata": {},
   "outputs": [
    {
     "data": {
      "text/plain": [
       "'================================================================================'"
      ]
     },
     "execution_count": 169,
     "metadata": {},
     "output_type": "execute_result"
    }
   ],
   "source": [
    "\"=\" * 80"
   ]
  },
  {
   "cell_type": "markdown",
   "id": "2e382dda-c4f9-4b7c-a7d7-2a9ad13a2aa7",
   "metadata": {},
   "source": [
    "**Sumar cadenes**"
   ]
  },
  {
   "cell_type": "code",
   "execution_count": 173,
   "id": "c14716ab-457a-425b-b58b-fe5106902edc",
   "metadata": {},
   "outputs": [
    {
     "data": {
      "text/plain": [
       "'hola adeu\\nAquesta es una cadena llarga\\nque pot tenir moltes lineas\\nse seol utilitzar per documentar fitxers\\ntambe pot servir \\r nunca  '"
      ]
     },
     "execution_count": 173,
     "metadata": {},
     "output_type": "execute_result"
    }
   ],
   "source": [
    "\"hola\" + \" adeu\" + str(cadenallarga)"
   ]
  },
  {
   "cell_type": "code",
   "execution_count": 174,
   "id": "29e0b926-0f4f-4bb7-bdee-05cfe1b1a1c7",
   "metadata": {},
   "outputs": [
    {
     "name": "stdout",
     "output_type": "stream",
     "text": [
      "hola adeu\n",
      "Aquesta es una cadena llarga\n",
      "que pot tenir moltes lineas\n",
      "se seol utilitzar per documentar fitxers\n",
      " nunca  t servir \n"
     ]
    }
   ],
   "source": [
    "print(\"hola\" + \" adeu\" + str(cadenallarga))"
   ]
  },
  {
   "cell_type": "code",
   "execution_count": 178,
   "id": "b5b7cd7f-df35-4023-9e42-03e57fb049e0",
   "metadata": {},
   "outputs": [
    {
     "name": "stdout",
     "output_type": "stream",
     "text": [
      "mi numero: 678; mi altura: 1.82\n"
     ]
    }
   ],
   "source": [
    "print(\"mi numero: \" + str(678) + \"; mi altura: \" + str(1.82)) # Construir la cadena d'aquesta forma es molt lleig"
   ]
  },
  {
   "cell_type": "markdown",
   "id": "5c8efd39-db77-45f9-84d9-5c168aae940d",
   "metadata": {},
   "source": [
    "**Per montar cadenes de forma moderna**"
   ]
  },
  {
   "cell_type": "code",
   "execution_count": 183,
   "id": "167b3987-0893-4b9c-9d8a-be90653d5e18",
   "metadata": {},
   "outputs": [
    {
     "data": {
      "text/plain": [
       "'Això es una cadena F ============   acnun \\r rivres top ebmat\\nsrextif ratnemucod rep raztilitu loes es\\nsaenil setlom rinet top euq\\nagrall anedac anu se atseuqA\\n'"
      ]
     },
     "execution_count": 183,
     "metadata": {},
     "output_type": "execute_result"
    }
   ],
   "source": [
    "F\"\"\"Això es una cadena F {\"=\"*12} {cadenallarga[::-1]}\"\"\""
   ]
  },
  {
   "cell_type": "code",
   "execution_count": 184,
   "id": "166506a8-c3d4-4cc0-8b11-909ad8f60f42",
   "metadata": {},
   "outputs": [
    {
     "name": "stdout",
     "output_type": "stream",
     "text": [
      " rivres top ebmata F ============   acnun \n",
      "srextif ratnemucod rep raztilitu loes es\n",
      "saenil setlom rinet top euq\n",
      "agrall anedac anu se atseuqA\n",
      "\n"
     ]
    }
   ],
   "source": [
    "print(F\"\"\"Això es una cadena F {\"=\"*12} {cadenallarga[::-1]}\"\"\")"
   ]
  },
  {
   "cell_type": "markdown",
   "id": "85543e3a-7139-424e-ac51-c00e2ecac0c2",
   "metadata": {},
   "source": [
    "**Lonchas amb cadenes**"
   ]
  },
  {
   "cell_type": "code",
   "execution_count": 185,
   "id": "949f11f3-fa25-44fb-828d-02dd0639d954",
   "metadata": {},
   "outputs": [
    {
     "data": {
      "text/plain": [
       "'uesta'"
      ]
     },
     "execution_count": 185,
     "metadata": {},
     "output_type": "execute_result"
    }
   ],
   "source": [
    "cadenallarga[3:8]"
   ]
  },
  {
   "cell_type": "markdown",
   "id": "adf4af3a-d162-4293-823f-9c263cadd1b2",
   "metadata": {},
   "source": [
    "**Cadena bytes** \n",
    "Nomes amb cadenes de caracters ASCII"
   ]
  },
  {
   "cell_type": "code",
   "execution_count": 188,
   "id": "315b3e6a-f5c1-4482-9b9a-838909c76fb0",
   "metadata": {},
   "outputs": [
    {
     "data": {
      "text/plain": [
       "b' HOLA QUE TAL'"
      ]
     },
     "execution_count": 188,
     "metadata": {},
     "output_type": "execute_result"
    }
   ],
   "source": [
    "b\" Hola que tal\".upper() #Metode per posar-ho amb majuscules"
   ]
  },
  {
   "cell_type": "code",
   "execution_count": 189,
   "id": "9541d948-ef8f-4ce4-a6db-4edd075de1ec",
   "metadata": {},
   "outputs": [
    {
     "data": {
      "text/plain": [
       "b' Hola Que Tal'"
      ]
     },
     "execution_count": 189,
     "metadata": {},
     "output_type": "execute_result"
    }
   ],
   "source": [
    "b\" Hola que tal\".title() "
   ]
  },
  {
   "cell_type": "code",
   "execution_count": 191,
   "id": "5e92357d-3802-422c-af4a-734b9cf3b811",
   "metadata": {},
   "outputs": [
    {
     "ename": "SyntaxError",
     "evalue": "bytes can only contain ASCII literal characters (533900440.py, line 1)",
     "output_type": "error",
     "traceback": [
      "\u001b[0;36m  Cell \u001b[0;32mIn[191], line 1\u001b[0;36m\u001b[0m\n\u001b[0;31m    b\" Hola què tal?\" # L'accent no forma part del conjunt ASCII\u001b[0m\n\u001b[0m    ^\u001b[0m\n\u001b[0;31mSyntaxError\u001b[0m\u001b[0;31m:\u001b[0m bytes can only contain ASCII literal characters\n"
     ]
    }
   ],
   "source": [
    "b\" Hola què tal?\" # L'accent no forma part del conjunt ASCII"
   ]
  },
  {
   "cell_type": "markdown",
   "id": "d922b0b2-ef37-48c1-89ad-cc745a89cddf",
   "metadata": {},
   "source": [
    "**Eliminar amb \"Del\"**"
   ]
  },
  {
   "cell_type": "code",
   "execution_count": 197,
   "id": "61e7f7ae-1106-4d3a-8b7e-e55f60dc994e",
   "metadata": {},
   "outputs": [],
   "source": [
    "lista = [1, 2, 3, \"Hola\"]"
   ]
  },
  {
   "cell_type": "code",
   "execution_count": 198,
   "id": "eaa679f8-8922-4a9b-837c-00c3c6669430",
   "metadata": {},
   "outputs": [],
   "source": [
    "del lista[1] # Eliminar element de la llista"
   ]
  },
  {
   "cell_type": "code",
   "execution_count": 194,
   "id": "9c624c65-a170-4d4c-aace-2b095f556c21",
   "metadata": {},
   "outputs": [
    {
     "data": {
      "text/plain": [
       "[1, 3, 'Hola']"
      ]
     },
     "execution_count": 194,
     "metadata": {},
     "output_type": "execute_result"
    }
   ],
   "source": [
    "lista"
   ]
  },
  {
   "cell_type": "code",
   "execution_count": 199,
   "id": "265d7653-9ec8-466d-bd9c-60d4eda1dbd9",
   "metadata": {},
   "outputs": [],
   "source": [
    "del lista # Eliminar la llista"
   ]
  },
  {
   "cell_type": "code",
   "execution_count": null,
   "id": "f481f18e-6f18-458e-8561-fa3edbaf1812",
   "metadata": {},
   "outputs": [],
   "source": []
  },
  {
   "cell_type": "markdown",
   "id": "30c1fb0b-811d-4187-ad59-c786374d2511",
   "metadata": {
    "jp-MarkdownHeadingCollapsed": true
   },
   "source": [
    "## Classe de tipus iterable"
   ]
  },
  {
   "cell_type": "markdown",
   "id": "61f64353-fc2c-484c-bd43-d4e49edb37fa",
   "metadata": {},
   "source": [
    "Objectes que podem recorrer un a un"
   ]
  },
  {
   "cell_type": "code",
   "execution_count": 10,
   "id": "e5ee856d-78e9-4fd7-8130-eca2dd96efa8",
   "metadata": {},
   "outputs": [],
   "source": [
    "colors = {\"red\", \"green\", \"blue\", \"yellow\", \"pink\", \"cian\"}"
   ]
  },
  {
   "cell_type": "markdown",
   "id": "9b5b4ac0-adb8-4d2a-b74e-3713a0cc3ecb",
   "metadata": {},
   "source": [
    "Mètode Get item"
   ]
  },
  {
   "cell_type": "markdown",
   "id": "013e1e07-89a6-40c2-bdcd-af18d855c3c4",
   "metadata": {},
   "source": [
    "Iterardor: Classe de tipus iteable sense un tipus concret"
   ]
  },
  {
   "cell_type": "code",
   "execution_count": 11,
   "id": "c6ac481a-d2d7-409d-adf5-75bc1f87e92c",
   "metadata": {},
   "outputs": [],
   "source": [
    "iterador = iter(colors)"
   ]
  },
  {
   "cell_type": "code",
   "execution_count": 12,
   "id": "b4031ac7-ad32-424e-a88e-faa060d67c34",
   "metadata": {},
   "outputs": [
    {
     "data": {
      "text/plain": [
       "'cian'"
      ]
     },
     "execution_count": 12,
     "metadata": {},
     "output_type": "execute_result"
    }
   ],
   "source": [
    "next(iterador)"
   ]
  },
  {
   "cell_type": "code",
   "execution_count": 13,
   "id": "17eb633e-e1f9-4984-a2e5-d69ef3739ba5",
   "metadata": {},
   "outputs": [
    {
     "data": {
      "text/plain": [
       "'pink'"
      ]
     },
     "execution_count": 13,
     "metadata": {},
     "output_type": "execute_result"
    }
   ],
   "source": [
    "next(iterador)"
   ]
  },
  {
   "cell_type": "code",
   "execution_count": 14,
   "id": "c7fb921b-403a-46a7-bb3f-cdb8bd6fcce4",
   "metadata": {},
   "outputs": [
    {
     "data": {
      "text/plain": [
       "'red'"
      ]
     },
     "execution_count": 14,
     "metadata": {},
     "output_type": "execute_result"
    }
   ],
   "source": [
    "next(iterador)"
   ]
  },
  {
   "cell_type": "code",
   "execution_count": 15,
   "id": "614861a2-e01e-473f-9b91-d0dcca7e2939",
   "metadata": {},
   "outputs": [
    {
     "data": {
      "text/plain": [
       "'green'"
      ]
     },
     "execution_count": 15,
     "metadata": {},
     "output_type": "execute_result"
    }
   ],
   "source": [
    "next(iterador)"
   ]
  },
  {
   "cell_type": "code",
   "execution_count": 16,
   "id": "287aa636-a14b-44d8-a8d8-3a5def85fb8e",
   "metadata": {},
   "outputs": [
    {
     "data": {
      "text/plain": [
       "'blue'"
      ]
     },
     "execution_count": 16,
     "metadata": {},
     "output_type": "execute_result"
    }
   ],
   "source": [
    "next(iterador)"
   ]
  },
  {
   "cell_type": "markdown",
   "id": "fd9d3b82-98f3-4ce6-9d1f-2c705170f83e",
   "metadata": {},
   "source": [
    "### Range"
   ]
  },
  {
   "cell_type": "code",
   "execution_count": 17,
   "id": "e6602d0e-9294-43e9-9e0a-c9c931cd8605",
   "metadata": {},
   "outputs": [],
   "source": [
    "rang = range(10)"
   ]
  },
  {
   "cell_type": "code",
   "execution_count": 18,
   "id": "62503ecd-f9f7-42d8-9884-18e4fc624842",
   "metadata": {},
   "outputs": [],
   "source": [
    "iterador2 = iter(rang)"
   ]
  },
  {
   "cell_type": "code",
   "execution_count": 19,
   "id": "500d71f5-2349-4f88-95bf-4ad65e6e6c6e",
   "metadata": {},
   "outputs": [
    {
     "data": {
      "text/plain": [
       "0"
      ]
     },
     "execution_count": 19,
     "metadata": {},
     "output_type": "execute_result"
    }
   ],
   "source": [
    "next(iterador2)"
   ]
  },
  {
   "cell_type": "code",
   "execution_count": 20,
   "id": "d949a227-8331-4643-a339-2b9834ab8d41",
   "metadata": {},
   "outputs": [
    {
     "data": {
      "text/plain": [
       "1"
      ]
     },
     "execution_count": 20,
     "metadata": {},
     "output_type": "execute_result"
    }
   ],
   "source": [
    "next(iterador2)"
   ]
  },
  {
   "cell_type": "code",
   "execution_count": 21,
   "id": "221a02c0-d3a3-4a28-9582-c3b3e1bb5c86",
   "metadata": {},
   "outputs": [
    {
     "data": {
      "text/plain": [
       "2"
      ]
     },
     "execution_count": 21,
     "metadata": {},
     "output_type": "execute_result"
    }
   ],
   "source": [
    "next(iterador2)"
   ]
  },
  {
   "cell_type": "code",
   "execution_count": 22,
   "id": "c75f01d2-adb5-4b3d-b57a-ed7a9122d59a",
   "metadata": {},
   "outputs": [
    {
     "data": {
      "text/plain": [
       "3"
      ]
     },
     "execution_count": 22,
     "metadata": {},
     "output_type": "execute_result"
    }
   ],
   "source": [
    "next(iterador2)"
   ]
  },
  {
   "cell_type": "code",
   "execution_count": 23,
   "id": "f349b210-96f5-45e0-9978-25844cee2155",
   "metadata": {},
   "outputs": [
    {
     "data": {
      "text/plain": [
       "4"
      ]
     },
     "execution_count": 23,
     "metadata": {},
     "output_type": "execute_result"
    }
   ],
   "source": [
    "next(iterador2)"
   ]
  },
  {
   "cell_type": "code",
   "execution_count": 24,
   "id": "7666b7b1-d601-41de-a08a-34a100b74d33",
   "metadata": {},
   "outputs": [
    {
     "data": {
      "text/plain": [
       "5"
      ]
     },
     "execution_count": 24,
     "metadata": {},
     "output_type": "execute_result"
    }
   ],
   "source": [
    "next(iterador2)"
   ]
  },
  {
   "cell_type": "code",
   "execution_count": 25,
   "id": "af3a72b0-e168-4512-b418-8a34ff728084",
   "metadata": {},
   "outputs": [
    {
     "data": {
      "text/plain": [
       "6"
      ]
     },
     "execution_count": 25,
     "metadata": {},
     "output_type": "execute_result"
    }
   ],
   "source": [
    "next(iterador2)"
   ]
  },
  {
   "cell_type": "code",
   "execution_count": 26,
   "id": "c2ab50f8-e02e-40a8-a109-857edfaab01a",
   "metadata": {},
   "outputs": [
    {
     "data": {
      "text/plain": [
       "7"
      ]
     },
     "execution_count": 26,
     "metadata": {},
     "output_type": "execute_result"
    }
   ],
   "source": [
    "next(iterador2)"
   ]
  },
  {
   "cell_type": "code",
   "execution_count": 27,
   "id": "83b279ef-5fc0-48de-928f-59967975490f",
   "metadata": {},
   "outputs": [
    {
     "data": {
      "text/plain": [
       "8"
      ]
     },
     "execution_count": 27,
     "metadata": {},
     "output_type": "execute_result"
    }
   ],
   "source": [
    "next(iterador2)"
   ]
  },
  {
   "cell_type": "code",
   "execution_count": 28,
   "id": "8401bf59-51b5-442e-a5d2-b0021581f0ee",
   "metadata": {},
   "outputs": [
    {
     "data": {
      "text/plain": [
       "9"
      ]
     },
     "execution_count": 28,
     "metadata": {},
     "output_type": "execute_result"
    }
   ],
   "source": [
    "next(iterador2)"
   ]
  },
  {
   "cell_type": "code",
   "execution_count": 29,
   "id": "1766ad13-262a-4544-9a1a-dc5604132da2",
   "metadata": {},
   "outputs": [
    {
     "ename": "StopIteration",
     "evalue": "",
     "output_type": "error",
     "traceback": [
      "\u001b[0;31m---------------------------------------------------------------------------\u001b[0m",
      "\u001b[0;31mStopIteration\u001b[0m                             Traceback (most recent call last)",
      "Cell \u001b[0;32mIn[29], line 1\u001b[0m\n\u001b[0;32m----> 1\u001b[0m \u001b[38;5;28;43mnext\u001b[39;49m\u001b[43m(\u001b[49m\u001b[43miterador2\u001b[49m\u001b[43m)\u001b[49m\n",
      "\u001b[0;31mStopIteration\u001b[0m: "
     ]
    }
   ],
   "source": [
    "next(iterador2)"
   ]
  },
  {
   "cell_type": "code",
   "execution_count": 30,
   "id": "cfcb9b60-b9aa-4d40-b0dc-8091ec714aae",
   "metadata": {},
   "outputs": [],
   "source": [
    "rang = range(327 ** 42, 349 ** 201) # La funció rang ens permet fer salvetjades"
   ]
  },
  {
   "cell_type": "code",
   "execution_count": 32,
   "id": "baecd546-ccfd-4151-97b9-424ccd00e8dc",
   "metadata": {},
   "outputs": [
    {
     "data": {
      "text/plain": [
       "4083246624618445867372873006783943614276149090064258460751428952918542598292281219519492799153415347676529"
      ]
     },
     "execution_count": 32,
     "metadata": {},
     "output_type": "execute_result"
    }
   ],
   "source": [
    "rang[0] # Els valors de una funció rang no estan a la memoria sino que es generen al moment"
   ]
  },
  {
   "cell_type": "code",
   "execution_count": 33,
   "id": "d12f661a-0264-4908-acf1-ff04aaecec71",
   "metadata": {},
   "outputs": [],
   "source": [
    "rang = range(33, 71, 4)"
   ]
  },
  {
   "cell_type": "code",
   "execution_count": 35,
   "id": "ea1b7706-c502-4d3e-b4af-5d45a12cb6fe",
   "metadata": {},
   "outputs": [
    {
     "data": {
      "text/plain": [
       "[33, 37, 41, 45, 49, 53, 57, 61, 65, 69]"
      ]
     },
     "execution_count": 35,
     "metadata": {},
     "output_type": "execute_result"
    }
   ],
   "source": [
    "list(rang) # Convertir el rang en una llista"
   ]
  },
  {
   "cell_type": "code",
   "execution_count": 36,
   "id": "7199d1a1-bb55-4b19-a4de-e57208a302ee",
   "metadata": {},
   "outputs": [
    {
     "data": {
      "text/plain": [
       "NoneType"
      ]
     },
     "execution_count": 36,
     "metadata": {},
     "output_type": "execute_result"
    }
   ],
   "source": [
    "type(None)"
   ]
  },
  {
   "cell_type": "markdown",
   "id": "2d84359b-8a3f-4cb2-9c6b-a36132b9345e",
   "metadata": {},
   "source": [
    "### Elypsis"
   ]
  },
  {
   "cell_type": "markdown",
   "id": "ce6163e7-8e11-46c7-9b35-5cee5aa756dc",
   "metadata": {},
   "source": [
    "Serveixen per si he de deixar una cosa per despres i per indicar la resta de dimensons"
   ]
  },
  {
   "cell_type": "code",
   "execution_count": 39,
   "id": "0cc5165e-a51a-4101-8da5-233cacbb59f0",
   "metadata": {},
   "outputs": [
    {
     "data": {
      "text/plain": [
       "Ellipsis"
      ]
     },
     "execution_count": 39,
     "metadata": {},
     "output_type": "execute_result"
    }
   ],
   "source": [
    "..."
   ]
  },
  {
   "cell_type": "code",
   "execution_count": 40,
   "id": "69af596e-a6d2-4a02-9186-665ea448516d",
   "metadata": {},
   "outputs": [
    {
     "data": {
      "text/plain": [
       "ellipsis"
      ]
     },
     "execution_count": 40,
     "metadata": {},
     "output_type": "execute_result"
    }
   ],
   "source": [
    "type(...)"
   ]
  },
  {
   "cell_type": "markdown",
   "id": "e90bce19-5bc0-4d4e-af59-b980e8b2222f",
   "metadata": {
    "jp-MarkdownHeadingCollapsed": true
   },
   "source": [
    "## Excepcions"
   ]
  },
  {
   "cell_type": "code",
   "execution_count": 41,
   "id": "7f7aa9b8-ad2a-4040-96b5-054f88d85565",
   "metadata": {},
   "outputs": [
    {
     "ename": "NameError",
     "evalue": "name 'excepcio' is not defined",
     "output_type": "error",
     "traceback": [
      "\u001b[0;31m---------------------------------------------------------------------------\u001b[0m",
      "\u001b[0;31mNameError\u001b[0m                                 Traceback (most recent call last)",
      "Cell \u001b[0;32mIn[41], line 1\u001b[0m\n\u001b[0;32m----> 1\u001b[0m \u001b[43mexcepcio\u001b[49m\n",
      "\u001b[0;31mNameError\u001b[0m: name 'excepcio' is not defined"
     ]
    }
   ],
   "source": [
    "excepcio"
   ]
  },
  {
   "cell_type": "markdown",
   "id": "3b9591c3-02d2-4c3a-8208-bd5400351c8a",
   "metadata": {},
   "source": [
    "S'ha generat un name error"
   ]
  },
  {
   "cell_type": "code",
   "execution_count": 43,
   "id": "131326c9-68e8-4486-aa06-afac3c2bb2ad",
   "metadata": {},
   "outputs": [
    {
     "ename": "TypeError",
     "evalue": "type() takes 1 or 3 arguments",
     "output_type": "error",
     "traceback": [
      "\u001b[0;31m---------------------------------------------------------------------------\u001b[0m",
      "\u001b[0;31mTypeError\u001b[0m                                 Traceback (most recent call last)",
      "Cell \u001b[0;32mIn[43], line 1\u001b[0m\n\u001b[0;32m----> 1\u001b[0m \u001b[38;5;28;43mtype\u001b[39;49m\u001b[43m(\u001b[49m\u001b[43m)\u001b[49m\n",
      "\u001b[0;31mTypeError\u001b[0m: type() takes 1 or 3 arguments"
     ]
    }
   ],
   "source": [
    "type()"
   ]
  },
  {
   "cell_type": "code",
   "execution_count": 44,
   "id": "275f5d94-9369-452b-87e4-3b22bb0d49d8",
   "metadata": {},
   "outputs": [
    {
     "data": {
      "text/plain": [
       "type"
      ]
     },
     "execution_count": 44,
     "metadata": {},
     "output_type": "execute_result"
    }
   ],
   "source": [
    "type(type)"
   ]
  },
  {
   "cell_type": "markdown",
   "id": "4cc98371-0283-4f7a-b41e-dd93967f0c9d",
   "metadata": {
    "jp-MarkdownHeadingCollapsed": true
   },
   "source": [
    "## NP array"
   ]
  },
  {
   "cell_type": "code",
   "execution_count": 48,
   "id": "70219349-6221-4a3b-a264-1d08de332aaa",
   "metadata": {},
   "outputs": [],
   "source": [
    "import numpy as np\n",
    "tensor = np.array([[[1, 2],[3, 4]], [[5, 6], [7, 8]]])\n",
    "# Np array de 3 dimensions"
   ]
  },
  {
   "cell_type": "code",
   "execution_count": 46,
   "id": "82f3dfd2-929d-451a-8fc4-38d598abd411",
   "metadata": {},
   "outputs": [
    {
     "data": {
      "text/plain": [
       "array([[[1, 2],\n",
       "        [3, 4]],\n",
       "\n",
       "       [[5, 6],\n",
       "        [7, 8]]])"
      ]
     },
     "execution_count": 46,
     "metadata": {},
     "output_type": "execute_result"
    }
   ],
   "source": [
    "tensor"
   ]
  },
  {
   "cell_type": "code",
   "execution_count": 47,
   "id": "25473de2-fd6b-4f4e-bf5c-518438f65292",
   "metadata": {},
   "outputs": [
    {
     "data": {
      "text/plain": [
       "array([[1, 3],\n",
       "       [5, 7]])"
      ]
     },
     "execution_count": 47,
     "metadata": {},
     "output_type": "execute_result"
    }
   ],
   "source": [
    "tensor[:,:,0]"
   ]
  },
  {
   "cell_type": "markdown",
   "id": "44bb1eda-2494-4071-9c4e-c9380f858ce9",
   "metadata": {},
   "source": [
    "Normalment en una imatge tenim 3 dimensons, files per columnes per canal de color"
   ]
  },
  {
   "cell_type": "code",
   "execution_count": 50,
   "id": "24d2929e-66b1-4db4-ba19-8b05bb4827fc",
   "metadata": {},
   "outputs": [
    {
     "data": {
      "text/plain": [
       "array([[1, 3],\n",
       "       [5, 7]])"
      ]
     },
     "execution_count": 50,
     "metadata": {},
     "output_type": "execute_result"
    }
   ],
   "source": [
    "tensor[...,0] # Es indiferent quantes dimensonis tingui, ens mostrarà el que la ultima dimensió sigui 0"
   ]
  },
  {
   "cell_type": "markdown",
   "id": "2534c5a4-1e1f-48cf-b649-a0f70779e5fe",
   "metadata": {
    "jp-MarkdownHeadingCollapsed": true
   },
   "source": [
    "## Estructures de control de fluxe"
   ]
  },
  {
   "cell_type": "markdown",
   "id": "887e0226-8f44-4d93-819d-f035a117cad3",
   "metadata": {},
   "source": [
    "### Estructures condicionals"
   ]
  },
  {
   "cell_type": "markdown",
   "id": "b3da82fe-d0ea-426c-acae-2b6a5a106ce2",
   "metadata": {},
   "source": [
    "#### IF"
   ]
  },
  {
   "cell_type": "markdown",
   "id": "2aa5def5-7c9b-4b8f-be20-a9f843cc5fee",
   "metadata": {},
   "source": [
    "if condició : comanda1; comanda2; comanda3;\n",
    "\n",
    "if condició :\n",
    "    comanda1\n",
    "    comanda2\n",
    "    comanda3\n",
    "\n",
    "Continues amb el seguent\n",
    "\n",
    "**Exemple:** \n",
    "if error : continue\n",
    "if condicio : return\n",
    "\n",
    "El sagnat es el que indica el quan acaba la la conidició if.\n",
    "\n",
    "if condició1 :\n",
    "    comanda1  \n",
    "    comanda2\n",
    "    if condició2 :\n",
    "        comanda3\n",
    "        comanda4\n",
    "    comanda5\n",
    "continuació del codi\n"
   ]
  },
  {
   "cell_type": "markdown",
   "id": "8d436c00-b7f8-4b12-9e47-31114508e1f1",
   "metadata": {},
   "source": [
    "Es recomana utilitzar quatre espais en comptes de una tabulació."
   ]
  },
  {
   "cell_type": "code",
   "execution_count": 51,
   "id": "c4fb601e-51ed-441a-a8c1-173ed946458b",
   "metadata": {},
   "outputs": [],
   "source": [
    "numero = 33"
   ]
  },
  {
   "cell_type": "code",
   "execution_count": 54,
   "id": "169d5d18-7d45-4155-90af-970dcc1660c1",
   "metadata": {},
   "outputs": [
    {
     "name": "stdout",
     "output_type": "stream",
     "text": [
      "el número 33 és trino\n"
     ]
    }
   ],
   "source": [
    "if numero % 2 == 0 :  # Podriem posar if not numero % 2 ja que 0 avalua a false\n",
    "    print(f\"el número {numero} és parell\")\n",
    "elif numero % 3 == 0 :\n",
    "    print(f\"el número {numero} és trino\")\n",
    "elif numero % 5 == 0 :\n",
    "    print(f\"el número {numero} és múltiple de 5\")\n",
    "else : \n",
    "    print(f\"el número {numero} no és ni parell ni trino ni múltiple de 5\")"
   ]
  },
  {
   "cell_type": "code",
   "execution_count": 56,
   "id": "15172668-6b1b-43d4-b224-a2fc0a2bda97",
   "metadata": {},
   "outputs": [],
   "source": [
    "numero = 37\n"
   ]
  },
  {
   "cell_type": "markdown",
   "id": "1ff5137f-594c-4fd5-8bb9-b4b85418ad24",
   "metadata": {},
   "source": [
    "Operador Ternari"
   ]
  },
  {
   "cell_type": "code",
   "execution_count": 57,
   "id": "a35f2dc2-b6b1-499b-be6c-884aa77e1056",
   "metadata": {},
   "outputs": [
    {
     "data": {
      "text/plain": [
       "37"
      ]
     },
     "execution_count": 57,
     "metadata": {},
     "output_type": "execute_result"
    }
   ],
   "source": [
    "numero if numero > 0 else -numero"
   ]
  },
  {
   "cell_type": "code",
   "execution_count": 58,
   "id": "c9d99270-547f-4158-ba6b-a08fe7782075",
   "metadata": {},
   "outputs": [],
   "source": [
    "numero = -13"
   ]
  },
  {
   "cell_type": "code",
   "execution_count": 59,
   "id": "ca098550-ffc0-4704-b073-bfcf1db6b169",
   "metadata": {},
   "outputs": [
    {
     "data": {
      "text/plain": [
       "13"
      ]
     },
     "execution_count": 59,
     "metadata": {},
     "output_type": "execute_result"
    }
   ],
   "source": [
    "numero if numero > 0 else -numero"
   ]
  },
  {
   "cell_type": "markdown",
   "id": "a0d402d7-a418-4edd-9dff-3c980cf05ab2",
   "metadata": {
    "jp-MarkdownHeadingCollapsed": true
   },
   "source": [
    "### Estructures iteratives"
   ]
  },
  {
   "cell_type": "markdown",
   "id": "58f44fae-4b78-42f4-b881-bca611740eb1",
   "metadata": {
    "jp-MarkdownHeadingCollapsed": true
   },
   "source": [
    "#### While"
   ]
  },
  {
   "cell_type": "code",
   "execution_count": 60,
   "id": "63a0baf0-b998-4d74-83bd-f0e20e0f16a7",
   "metadata": {},
   "outputs": [],
   "source": [
    "numero = 33"
   ]
  },
  {
   "cell_type": "code",
   "execution_count": 61,
   "id": "c4c90f0a-fadb-4b87-aebb-564b3c8fac75",
   "metadata": {},
   "outputs": [
    {
     "name": "stdout",
     "output_type": "stream",
     "text": [
      "33\n",
      "32\n",
      "31\n",
      "30\n",
      "29\n",
      "28\n",
      "27\n",
      "26\n",
      "25\n",
      "24\n",
      "23\n",
      "22\n",
      "21\n",
      "20\n",
      "19\n",
      "18\n",
      "17\n",
      "16\n",
      "15\n",
      "14\n",
      "13\n",
      "12\n",
      "11\n",
      "10\n",
      "9\n",
      "8\n",
      "7\n",
      "6\n",
      "5\n",
      "4\n",
      "3\n",
      "2\n",
      "1\n"
     ]
    }
   ],
   "source": [
    "while numero > 0 :\n",
    "    print(numero)\n",
    "    numero -= 1"
   ]
  },
  {
   "cell_type": "code",
   "execution_count": 66,
   "id": "70702b0b-1aca-4476-8f31-e3a950555f2d",
   "metadata": {},
   "outputs": [],
   "source": [
    "colors = {\"red\", \"green\", \"blue\"}"
   ]
  },
  {
   "cell_type": "code",
   "execution_count": 63,
   "id": "86fe98fe-7de8-4205-88e2-b8802f9b778f",
   "metadata": {},
   "outputs": [],
   "source": [
    "# Nota: El buit tambe avalua a false"
   ]
  },
  {
   "cell_type": "code",
   "execution_count": 73,
   "id": "e5b45515-862e-4c06-bfc4-56f27598935f",
   "metadata": {},
   "outputs": [],
   "source": [
    "while colors :\n",
    "    print(f\"{colors.pop()}\")"
   ]
  },
  {
   "cell_type": "code",
   "execution_count": 65,
   "id": "4a33c451-6e77-491f-a8bd-64b2b2ee6878",
   "metadata": {},
   "outputs": [
    {
     "data": {
      "text/plain": [
       "set()"
      ]
     },
     "execution_count": 65,
     "metadata": {},
     "output_type": "execute_result"
    }
   ],
   "source": [
    "colors"
   ]
  },
  {
   "cell_type": "markdown",
   "id": "7be8ffb6-460a-40d2-a83f-da43a9a5fdcc",
   "metadata": {
    "jp-MarkdownHeadingCollapsed": true
   },
   "source": [
    "#### Operador morsa (operador assignació avaluada) \n",
    "**:=**"
   ]
  },
  {
   "cell_type": "code",
   "execution_count": 71,
   "id": "57de3b6c-b78f-4649-8632-971ef899b355",
   "metadata": {},
   "outputs": [
    {
     "data": {
      "text/plain": [
       "'green'"
      ]
     },
     "execution_count": 71,
     "metadata": {},
     "output_type": "execute_result"
    }
   ],
   "source": [
    "(color := colors.pop()) # Fa la funció i s'assigna\n",
    "# S'ha de posar entre parentesis perque es raro"
   ]
  },
  {
   "cell_type": "code",
   "execution_count": 72,
   "id": "a4323935-af62-4640-8dc9-772679c73eb9",
   "metadata": {},
   "outputs": [
    {
     "data": {
      "text/plain": [
       "'green'"
      ]
     },
     "execution_count": 72,
     "metadata": {},
     "output_type": "execute_result"
    }
   ],
   "source": [
    "color"
   ]
  },
  {
   "cell_type": "code",
   "execution_count": 75,
   "id": "ec8f9a11-8570-4ebf-961a-19a1ffcd635f",
   "metadata": {},
   "outputs": [
    {
     "ename": "KeyError",
     "evalue": "'pop from an empty set'",
     "output_type": "error",
     "traceback": [
      "\u001b[0;31m---------------------------------------------------------------------------\u001b[0m",
      "\u001b[0;31mKeyError\u001b[0m                                  Traceback (most recent call last)",
      "Cell \u001b[0;32mIn[75], line 1\u001b[0m\n\u001b[0;32m----> 1\u001b[0m \u001b[38;5;28;01mwhile\u001b[39;00m (color \u001b[38;5;241m:=\u001b[39m \u001b[43mcolors\u001b[49m\u001b[38;5;241;43m.\u001b[39;49m\u001b[43mpop\u001b[49m\u001b[43m(\u001b[49m\u001b[43m)\u001b[49m) :\n\u001b[1;32m      2\u001b[0m     \u001b[38;5;28mprint\u001b[39m(color)\n\u001b[1;32m      3\u001b[0m     \u001b[38;5;28mprint\u001b[39m(color\u001b[38;5;241m*\u001b[39m\u001b[38;5;241m2\u001b[39m)\n",
      "\u001b[0;31mKeyError\u001b[0m: 'pop from an empty set'"
     ]
    }
   ],
   "source": [
    "while (color := colors.pop()) :\n",
    "    print(color)\n",
    "    print(color*2)"
   ]
  },
  {
   "cell_type": "markdown",
   "id": "e2a74b5a-c98f-49d6-aa87-2169aab3d619",
   "metadata": {
    "jp-MarkdownHeadingCollapsed": true
   },
   "source": [
    "#### For"
   ]
  },
  {
   "cell_type": "code",
   "execution_count": 77,
   "id": "b38b70e0-ccf8-40bf-b6e1-14192aa27e27",
   "metadata": {},
   "outputs": [],
   "source": [
    "colors = {\"red\", \"green\", \"blue\"}"
   ]
  },
  {
   "cell_type": "code",
   "execution_count": 78,
   "id": "5de53c4f-48ee-4c09-bce9-359206586084",
   "metadata": {},
   "outputs": [
    {
     "name": "stdout",
     "output_type": "stream",
     "text": [
      "blue\n",
      "red\n",
      "green\n"
     ]
    }
   ],
   "source": [
    "for color in colors :\n",
    "    print(f\"{color}\")"
   ]
  },
  {
   "cell_type": "markdown",
   "id": "15fd6cdd-9cc2-40ef-b07e-5e28388c1560",
   "metadata": {},
   "source": [
    "**Clàusules continue i break**"
   ]
  },
  {
   "cell_type": "markdown",
   "id": "037f40be-989a-491e-af21-cdd6fed225bb",
   "metadata": {},
   "source": [
    "Continue: S'oblida del bucle i continua \n",
    "Break: para el "
   ]
  },
  {
   "cell_type": "code",
   "execution_count": 91,
   "id": "5957e503-f335-488a-bc38-a705d22b41c9",
   "metadata": {},
   "outputs": [],
   "source": [
    "colors = [\"red\", \"green\", \"blue\", \"black\"]"
   ]
  },
  {
   "cell_type": "code",
   "execution_count": 92,
   "id": "94c65623-fe42-4148-95ad-955658a12a01",
   "metadata": {},
   "outputs": [
    {
     "name": "stdout",
     "output_type": "stream",
     "text": [
      "red\n",
      "green\n",
      "blue\n",
      "black\n",
      "Ja no queden colors\n"
     ]
    }
   ],
   "source": [
    "for color in colors :\n",
    "    print(color)\n",
    "else :\n",
    "    print(\"Ja no queden colors\")"
   ]
  },
  {
   "cell_type": "code",
   "execution_count": 93,
   "id": "952987d7-63c6-4889-bfec-9bba57a1479e",
   "metadata": {},
   "outputs": [
    {
     "name": "stdout",
     "output_type": "stream",
     "text": [
      "red\n",
      "green\n",
      "blue\n",
      "black\n",
      "Ja no queden colors\n"
     ]
    }
   ],
   "source": [
    "for color in colors :\n",
    "    print(color)\n",
    "    if color == \"green\": continue\n",
    "else :\n",
    "    print(\"Ja no queden colors\")"
   ]
  },
  {
   "cell_type": "code",
   "execution_count": 94,
   "id": "76cdd20c-6594-478d-9a8c-4cdfedaefaf8",
   "metadata": {},
   "outputs": [
    {
     "name": "stdout",
     "output_type": "stream",
     "text": [
      "red\n",
      "green\n",
      "blue\n"
     ]
    }
   ],
   "source": [
    "for color in colors :\n",
    "    print(color)\n",
    "    if color == \"blue\": break\n",
    "else :\n",
    "    print(\"Ja no queden colors\")"
   ]
  },
  {
   "cell_type": "code",
   "execution_count": 103,
   "id": "e467d6a3-4c64-4be8-9301-10e8141b7caf",
   "metadata": {},
   "outputs": [
    {
     "ename": "SyntaxError",
     "evalue": "expected ':' (428504862.py, line 4)",
     "output_type": "error",
     "traceback": [
      "\u001b[0;36m  Cell \u001b[0;32mIn[103], line 4\u001b[0;36m\u001b[0m\n\u001b[0;31m    for i in range(len(x))\u001b[0m\n\u001b[0m                          ^\u001b[0m\n\u001b[0;31mSyntaxError\u001b[0m\u001b[0;31m:\u001b[0m expected ':'\n"
     ]
    }
   ],
   "source": [
    "import numpy as np\n",
    "x = np.random.randint(0, 10, 5)\n",
    "print(x)\n",
    "for i in range(len(x))\n",
    "    print(x[i])"
   ]
  },
  {
   "cell_type": "markdown",
   "id": "a37b2220-b6e3-479b-9fa7-1e098d7fc298",
   "metadata": {},
   "source": []
  },
  {
   "cell_type": "code",
   "execution_count": 1,
   "id": "3f3200e1-df63-4c1a-9881-dc88a0f8efe9",
   "metadata": {},
   "outputs": [
    {
     "name": "stdout",
     "output_type": "stream",
     "text": [
      "red\n",
      "green\n",
      "blue\n",
      "yellow\n"
     ]
    }
   ],
   "source": [
    "colors = [\"red\", \"green\", \"blue\", \"yellow\"]\n",
    "for color in colors:\n",
    "    print(color)"
   ]
  },
  {
   "cell_type": "code",
   "execution_count": 2,
   "id": "49ef0bc8-6fc2-4e4c-ae11-25f1a0258e94",
   "metadata": {},
   "outputs": [
    {
     "data": {
      "text/plain": [
       "'red'"
      ]
     },
     "execution_count": 2,
     "metadata": {},
     "output_type": "execute_result"
    }
   ],
   "source": [
    "colors[0]"
   ]
  },
  {
   "cell_type": "markdown",
   "id": "4d9edb00-9950-4c11-8295-e4b96b925b04",
   "metadata": {
    "jp-MarkdownHeadingCollapsed": true
   },
   "source": [
    "#### Enumerar"
   ]
  },
  {
   "cell_type": "code",
   "execution_count": 10,
   "id": "31ece658-c234-4799-9e91-cf65dc905faa",
   "metadata": {},
   "outputs": [
    {
     "name": "stdout",
     "output_type": "stream",
     "text": [
      "El color 0 es el red\n",
      "El color 1 es el green\n",
      "El color 2 es el blue\n",
      "El color 3 es el yellow\n"
     ]
    }
   ],
   "source": [
    "for indice, color in enumerate(colors):\n",
    "    print(f\"El color {indice} es el {color}\")"
   ]
  },
  {
   "cell_type": "code",
   "execution_count": 15,
   "id": "5b3d09fa-3b5b-44d1-af59-2a23c1eb1d02",
   "metadata": {},
   "outputs": [
    {
     "name": "stdout",
     "output_type": "stream",
     "text": [
      "El color 15 es el red\n",
      "El color 16 es el green\n",
      "El color 17 es el blue\n",
      "El color 18 es el yellow\n"
     ]
    }
   ],
   "source": [
    "for indice, color in enumerate(colors, indice): # Comença per el 4 \n",
    "    print(f\"El color {indice} es el {color}\")"
   ]
  },
  {
   "cell_type": "markdown",
   "id": "054e033f-4f6e-487d-9b0e-a2d6c40ebf9d",
   "metadata": {
    "jp-MarkdownHeadingCollapsed": true
   },
   "source": [
    "## Funció zip"
   ]
  },
  {
   "cell_type": "markdown",
   "id": "bbecf11d-f9c0-4874-a3c9-146c72c52205",
   "metadata": {},
   "source": [
    "Ajunta estructures iterables"
   ]
  },
  {
   "cell_type": "code",
   "execution_count": 32,
   "id": "129c1279-88bb-445e-9697-360dc96a38dd",
   "metadata": {},
   "outputs": [],
   "source": [
    "noms = \"Jordi\", \"Africa\", \"Ion\", \"Guillem\"\n",
    "cognoms = \"Serret\", \"Abad\", \"Lozano\", \"Perez\"\n",
    "notes = 5.0, 8.5, 9.0, 7.5\n",
    "\n",
    "iterador = zip(noms, cognoms, notes)"
   ]
  },
  {
   "cell_type": "code",
   "execution_count": 19,
   "id": "c06d9668-d7fb-4ed6-8619-c54085536868",
   "metadata": {},
   "outputs": [
    {
     "data": {
      "text/plain": [
       "<zip at 0x7f76b870ab80>"
      ]
     },
     "execution_count": 19,
     "metadata": {},
     "output_type": "execute_result"
    }
   ],
   "source": [
    "iterador"
   ]
  },
  {
   "cell_type": "code",
   "execution_count": 20,
   "id": "5f91be38-f90c-4a5f-9554-5e45b5333f6f",
   "metadata": {},
   "outputs": [
    {
     "data": {
      "text/plain": [
       "('Jordi', 'Serret', 5.0)"
      ]
     },
     "execution_count": 20,
     "metadata": {},
     "output_type": "execute_result"
    }
   ],
   "source": [
    "next(iterador)"
   ]
  },
  {
   "cell_type": "code",
   "execution_count": 21,
   "id": "db214310-0b68-4c33-8750-e64c38370d2c",
   "metadata": {},
   "outputs": [
    {
     "data": {
      "text/plain": [
       "('Africa', 'Abad', 8.5)"
      ]
     },
     "execution_count": 21,
     "metadata": {},
     "output_type": "execute_result"
    }
   ],
   "source": [
    "next(iterador)"
   ]
  },
  {
   "cell_type": "code",
   "execution_count": 22,
   "id": "c3119f1b-5d91-42f6-9969-6363a06e678d",
   "metadata": {},
   "outputs": [
    {
     "data": {
      "text/plain": [
       "('Ion', 'Lozano', 9.0)"
      ]
     },
     "execution_count": 22,
     "metadata": {},
     "output_type": "execute_result"
    }
   ],
   "source": [
    "next(iterador)"
   ]
  },
  {
   "cell_type": "code",
   "execution_count": 24,
   "id": "70b91490-1ec1-41a9-92b9-33ebd7b65f3f",
   "metadata": {},
   "outputs": [
    {
     "name": "stdout",
     "output_type": "stream",
     "text": [
      "La nota de Jordi Serret és 5.5\n",
      "La nota de Africa Abad és 9.0\n",
      "La nota de Ion Lozano és 9.5\n",
      "La nota de Guillem Perez és 8.0\n"
     ]
    }
   ],
   "source": [
    "for nom, cognom, nota in zip(noms,cognoms,notes):  # Normalment s'utilitza amb bucles for\n",
    "    print(f\"La nota de {nom} {cognom} és {nota + 0.5}\")"
   ]
  },
  {
   "cell_type": "code",
   "execution_count": 36,
   "id": "f6097434-ce63-46a7-a0a4-09fd8df62a69",
   "metadata": {},
   "outputs": [
    {
     "name": "stdout",
     "output_type": "stream",
     "text": [
      "['JORDI', 'AFRICA', 'GUILLEM', 'SERRET', 'LOZANO', 'PEREZ']\n"
     ]
    }
   ],
   "source": [
    "xulos = []\n",
    "for nom in noms + cognoms:\n",
    "    if len(nom) > 4:\n",
    "        xulos.append(nom.upper())\n",
    "print(xulos)"
   ]
  },
  {
   "cell_type": "markdown",
   "id": "f5678ebd-50a1-442a-9b5d-78fe0d93b8aa",
   "metadata": {
    "jp-MarkdownHeadingCollapsed": true
   },
   "source": [
    "## Examen"
   ]
  },
  {
   "cell_type": "code",
   "execution_count": 37,
   "id": "4f18893f-d67f-4840-828c-9fa3a8dfcc15",
   "metadata": {},
   "outputs": [],
   "source": [
    "# Albino escriurà a la pissarra del l'examen: expresion for elemento in iterable if condicion EXAMEN!!!"
   ]
  },
  {
   "cell_type": "code",
   "execution_count": 39,
   "id": "9be46a35-0267-4881-bc38-7c99e6fb9faf",
   "metadata": {},
   "outputs": [
    {
     "data": {
      "text/plain": [
       "['JORDI', 'AFRICA', 'GUILLEM', 'SERRET', 'LOZANO', 'PEREZ']"
      ]
     },
     "execution_count": 39,
     "metadata": {},
     "output_type": "execute_result"
    }
   ],
   "source": [
    "[name.upper() for name in noms+cognoms if len(name) > 4]"
   ]
  },
  {
   "cell_type": "code",
   "execution_count": 40,
   "id": "8e25e133-c15f-4c75-9cdd-8502ef341eb3",
   "metadata": {},
   "outputs": [],
   "source": [
    "# Crea un genrador per passar de item a item hem de fer servir next()"
   ]
  },
  {
   "cell_type": "markdown",
   "id": "8143ad84-d47a-4d72-bc77-3b440d522864",
   "metadata": {
    "jp-MarkdownHeadingCollapsed": true
   },
   "source": [
    "## Clàsusula def"
   ]
  },
  {
   "cell_type": "code",
   "execution_count": 45,
   "id": "e3a9a395-bb33-4ce6-ae43-a28477b77c0f",
   "metadata": {},
   "outputs": [
    {
     "name": "stdout",
     "output_type": "stream",
     "text": [
      "Help on function nomdefuncio in module __main__:\n",
      "\n",
      "nomdefuncio(parametres)\n",
      "    qualsevol cosa\n",
      "\n"
     ]
    }
   ],
   "source": [
    "def nomdefuncio(parametres):\n",
    "    \"\"\"\n",
    "    qualsevol cosa\n",
    "    \"\"\"\n",
    "help(nomdefuncio)\n",
    "    # Cadena de documentació: apareixerà al help"
   ]
  },
  {
   "cell_type": "markdown",
   "id": "1adea47f-9367-4bf9-97fa-e53d65cbfd96",
   "metadata": {
    "jp-MarkdownHeadingCollapsed": true
   },
   "source": [
    "## Classes"
   ]
  },
  {
   "cell_type": "code",
   "execution_count": 46,
   "id": "8f55b75b-afd5-44e4-a80f-b431eaf09c1f",
   "metadata": {},
   "outputs": [
    {
     "ename": "SyntaxError",
     "evalue": "expected ':' (3197838269.py, line 1)",
     "output_type": "error",
     "traceback": [
      "\u001b[0;36m  Cell \u001b[0;32mIn[46], line 1\u001b[0;36m\u001b[0m\n\u001b[0;31m    class NomdeClasse\u001b[0m\n\u001b[0m                     ^\u001b[0m\n\u001b[0;31mSyntaxError\u001b[0m\u001b[0;31m:\u001b[0m expected ':'\n"
     ]
    }
   ],
   "source": [
    "class NomdeClasse"
   ]
  },
  {
   "cell_type": "markdown",
   "id": "bb752388-61e1-4839-b53a-ed304080b654",
   "metadata": {
    "jp-MarkdownHeadingCollapsed": true
   },
   "source": [
    "## Funcions"
   ]
  },
  {
   "cell_type": "code",
   "execution_count": 47,
   "id": "1565f284-d889-4ba7-9763-e1c6698a4784",
   "metadata": {},
   "outputs": [],
   "source": [
    "def dividesidivisible(a, b,):\n",
    "    if a % b == 0:\n",
    "        return a // b"
   ]
  },
  {
   "cell_type": "code",
   "execution_count": 50,
   "id": "3c0f443e-e6d5-4b17-a735-a404cab7f541",
   "metadata": {},
   "outputs": [
    {
     "data": {
      "text/plain": [
       "5"
      ]
     },
     "execution_count": 50,
     "metadata": {},
     "output_type": "execute_result"
    }
   ],
   "source": [
    "dividesidivisible(25, 5)"
   ]
  },
  {
   "cell_type": "code",
   "execution_count": 52,
   "id": "bca5bfed-63ba-41f4-8db8-3738c4ab78bc",
   "metadata": {},
   "outputs": [],
   "source": [
    "dividesidivisible(25, 4)   # Retorna None"
   ]
  },
  {
   "cell_type": "code",
   "execution_count": 66,
   "id": "08a44495-0ca5-4f10-93eb-28b7dca22fdc",
   "metadata": {},
   "outputs": [],
   "source": [
    "def quocientmodul(a, b):\n",
    "    return a // b, a % b"
   ]
  },
  {
   "cell_type": "code",
   "execution_count": 67,
   "id": "e87f3dcd-854a-43cb-89b7-1d33db606e0f",
   "metadata": {},
   "outputs": [],
   "source": [
    "resultat = quocientmodul(27, 4)  # Retorna sempre un sol objecte, encara que no ho sembli nomes ha retornat una tupla."
   ]
  },
  {
   "cell_type": "code",
   "execution_count": 68,
   "id": "c43cd7f1-5b5d-4c52-a133-c683dd977f74",
   "metadata": {},
   "outputs": [
    {
     "name": "stdout",
     "output_type": "stream",
     "text": [
      "(6, 3)\n"
     ]
    }
   ],
   "source": [
    "print(resultat) "
   ]
  },
  {
   "cell_type": "code",
   "execution_count": 71,
   "id": "db6396d7-ce09-4a6e-bd57-71cb2a05f2ce",
   "metadata": {},
   "outputs": [],
   "source": [
    "divisio, resta = quocientmodul(27, 4)"
   ]
  },
  {
   "cell_type": "code",
   "execution_count": 72,
   "id": "348712d3-01ac-4e7e-bb7a-cf823dd28506",
   "metadata": {},
   "outputs": [
    {
     "data": {
      "text/plain": [
       "6"
      ]
     },
     "execution_count": 72,
     "metadata": {},
     "output_type": "execute_result"
    }
   ],
   "source": [
    "divisio"
   ]
  },
  {
   "cell_type": "code",
   "execution_count": 73,
   "id": "38ec3fd6-66cb-4150-8a87-54f32894252b",
   "metadata": {},
   "outputs": [
    {
     "data": {
      "text/plain": [
       "3"
      ]
     },
     "execution_count": 73,
     "metadata": {},
     "output_type": "execute_result"
    }
   ],
   "source": [
    "resta"
   ]
  },
  {
   "cell_type": "code",
   "execution_count": 87,
   "id": "51023d8d-6831-4465-b0ca-34110f15c485",
   "metadata": {},
   "outputs": [
    {
     "name": "stdout",
     "output_type": "stream",
     "text": [
      "Help on module divisions:\n",
      "\n",
      "NAME\n",
      "    divisions - Aquesta es la cadena de documentació del mòdul\n",
      "\n",
      "FUNCTIONS\n",
      "    dividesidivisible(a, b)\n",
      "\n",
      "    quocientmodul(a, b)\n",
      "\n",
      "FILE\n",
      "    /home/biel/APA/Apunts/divisions.py\n",
      "\n",
      "\n"
     ]
    }
   ],
   "source": [
    "import divisions # En un fitxer extern\n",
    "help(divisions)"
   ]
  },
  {
   "cell_type": "code",
   "execution_count": 86,
   "id": "58dabb28-a3d7-4d5b-9062-27ce2cf52501",
   "metadata": {},
   "outputs": [
    {
     "data": {
      "text/plain": [
       "(0, 4)"
      ]
     },
     "execution_count": 86,
     "metadata": {},
     "output_type": "execute_result"
    }
   ],
   "source": [
    "divisions.quocientmodul(4, 5)"
   ]
  },
  {
   "cell_type": "code",
   "execution_count": 88,
   "id": "06ff320f-d39c-4782-8150-1b021a89ab4f",
   "metadata": {},
   "outputs": [],
   "source": [
    "from divisions import quocientmodul"
   ]
  },
  {
   "cell_type": "code",
   "execution_count": 89,
   "id": "be19585f-0c6f-4781-ad2c-6b0f12396113",
   "metadata": {},
   "outputs": [
    {
     "data": {
      "text/plain": [
       "(0, 4)"
      ]
     },
     "execution_count": 89,
     "metadata": {},
     "output_type": "execute_result"
    }
   ],
   "source": [
    "quocientmodul(4,5)"
   ]
  },
  {
   "cell_type": "markdown",
   "id": "d35dd09c-6102-4e2c-88e4-698d075f52bd",
   "metadata": {
    "jp-MarkdownHeadingCollapsed": true
   },
   "source": [
    "## Comanda run xd"
   ]
  },
  {
   "cell_type": "code",
   "execution_count": 94,
   "id": "b39093cf-90cd-4518-8165-33fc92dad098",
   "metadata": {},
   "outputs": [],
   "source": [
    "run divisions #Executa tot el modul pero nommés esta a ipython"
   ]
  },
  {
   "cell_type": "markdown",
   "id": "d605bb18-eeee-4613-85a9-5cffed91f14f",
   "metadata": {
    "jp-MarkdownHeadingCollapsed": true
   },
   "source": [
    "## Exectutar"
   ]
  },
  {
   "cell_type": "code",
   "execution_count": 95,
   "id": "239aa210-05ef-44ca-a625-f7aaada19fc9",
   "metadata": {},
   "outputs": [],
   "source": [
    "exec(open(\"divisions.py\").read()) #Fa el mateix que el run pero pots fer-ho servir a tot arreu"
   ]
  },
  {
   "cell_type": "markdown",
   "id": "d50bde62-641b-4729-af26-05247bc2d499",
   "metadata": {
    "jp-MarkdownHeadingCollapsed": true
   },
   "source": [
    "## Nomenclatura d'identificadors a python"
   ]
  },
  {
   "cell_type": "code",
   "execution_count": 96,
   "id": "c83d7d44-2f25-4d1b-bcef-b9a173e15c41",
   "metadata": {},
   "outputs": [
    {
     "name": "stdout",
     "output_type": "stream",
     "text": [
      "The Zen of Python, by Tim Peters\n",
      "\n",
      "Beautiful is better than ugly.\n",
      "Explicit is better than implicit.\n",
      "Simple is better than complex.\n",
      "Complex is better than complicated.\n",
      "Flat is better than nested.\n",
      "Sparse is better than dense.\n",
      "Readability counts.\n",
      "Special cases aren't special enough to break the rules.\n",
      "Although practicality beats purity.\n",
      "Errors should never pass silently.\n",
      "Unless explicitly silenced.\n",
      "In the face of ambiguity, refuse the temptation to guess.\n",
      "There should be one-- and preferably only one --obvious way to do it.\n",
      "Although that way may not be obvious at first unless you're Dutch.\n",
      "Now is better than never.\n",
      "Although never is often better than *right* now.\n",
      "If the implementation is hard to explain, it's a bad idea.\n",
      "If the implementation is easy to explain, it may be a good idea.\n",
      "Namespaces are one honking great idea -- let's do more of those!\n"
     ]
    }
   ],
   "source": [
    "import this"
   ]
  },
  {
   "cell_type": "code",
   "execution_count": 97,
   "id": "00eb27ff-c59f-4646-ae1b-778b3b5b534f",
   "metadata": {},
   "outputs": [],
   "source": [
    "# Beautiful is better than ugly. \n",
    "# La guia de estil de python es PEP 8 \"https://peps.python.org/pep-0008/\""
   ]
  },
  {
   "cell_type": "markdown",
   "id": "e51f28d7-3cb4-464c-b83f-741e27f55527",
   "metadata": {},
   "source": [
    "**Per definir constants**: CONSTANTS_CONSTANTS  \n",
    "**Ex**: NUMBER_OF_POINTS_OF_FAST_FOURIER_TRANSFORM aka NFFT  \n",
    "**Per definir objectes, corrents, funcions i metodes dels objectes**: Es pot fer d'aquestes dues maneres  \n",
    "snake_case  \n",
    "camelCase  \n",
    "Nota: Es recomana utilitzar nomes un dels dos estils.  \n",
    "**Per definir classes**: ClassesEnMajuscules \n",
    "CamelCase  \n",
    "**Escriure en anglès**:  Quan s'escriu en anglès no es pot posar el mateix nom que list per tant s'escriu una _ al final.  \n",
    "list_  \n",
    "\n",
    "**Noms de fitxers:** amb snake_case i tot minuscula "
   ]
  },
  {
   "cell_type": "markdown",
   "id": "16ffc7cc-22e9-4fa0-970f-11583821d592",
   "metadata": {},
   "source": []
  },
  {
   "cell_type": "markdown",
   "id": "2e279c35-7aba-4011-aa86-5c08b5e68b96",
   "metadata": {},
   "source": [
    "# Github"
   ]
  },
  {
   "cell_type": "markdown",
   "id": "69038fcb-2c54-4ab3-9046-89b1f07b796b",
   "metadata": {},
   "source": [
    "**Clonar un repositori**"
   ]
  },
  {
   "cell_type": "raw",
   "id": "c2639f90-7c5f-4660-a61b-2b4c4f2a499c",
   "metadata": {},
   "source": [
    "git clone https://github.com/bielbp/APA-T2.git"
   ]
  },
  {
   "cell_type": "markdown",
   "id": "b549cd3c-9c6b-452c-8cee-462c6ea542f8",
   "metadata": {},
   "source": [
    "**veure que hi ha a la carpeta**"
   ]
  },
  {
   "cell_type": "code",
   "execution_count": 1,
   "id": "69fef18b-4f9e-4eb0-99ed-990cbe02abfb",
   "metadata": {},
   "outputs": [
    {
     "data": {
      "text/plain": [
       "<function dir>"
      ]
     },
     "execution_count": 1,
     "metadata": {},
     "output_type": "execute_result"
    }
   ],
   "source": [
    "dir"
   ]
  },
  {
   "cell_type": "markdown",
   "id": "7aaf9b07-00ab-4be0-9674-eafb68b4c51d",
   "metadata": {},
   "source": [
    "**Entrar dins duna carpeta**"
   ]
  },
  {
   "cell_type": "raw",
   "id": "1134966b-d308-4fec-988e-df0700dddae7",
   "metadata": {},
   "source": [
    "cd apa"
   ]
  },
  {
   "cell_type": "markdown",
   "id": "6525b993-7de6-4a30-bf16-00ae59eab337",
   "metadata": {},
   "source": [
    "**veure l'estat del directori**"
   ]
  },
  {
   "cell_type": "raw",
   "id": "0cb361c3-9f1b-4fd3-9aa1-da6c59aaa7df",
   "metadata": {},
   "source": [
    "git status"
   ]
  },
  {
   "cell_type": "markdown",
   "id": "31b7497c-8f31-44b1-ad85-e0dd2f2aeece",
   "metadata": {},
   "source": [
    "**entrar al visual studio**"
   ]
  },
  {
   "cell_type": "raw",
   "id": "228e2cd0-1911-493f-874a-f1233a015c99",
   "metadata": {},
   "source": [
    "code ."
   ]
  },
  {
   "cell_type": "markdown",
   "id": "5cde7c9a-6464-4bf4-bc94-ad4792451e45",
   "metadata": {},
   "source": [
    "**afegir els canvis: (quan estas a la mateixa carpeta)**"
   ]
  },
  {
   "cell_type": "raw",
   "id": "1133917c-aa63-4658-8372-e478d17ad91b",
   "metadata": {},
   "source": [
    "gir add ."
   ]
  },
  {
   "cell_type": "markdown",
   "id": "b9fa3fc0-4ca2-44f7-a2d4-1f981ce37fbc",
   "metadata": {},
   "source": [
    "**recuperar versions** "
   ]
  },
  {
   "cell_type": "raw",
   "id": "cc1dbff1-e13b-40d7-b098-25844dc7733d",
   "metadata": {},
   "source": [
    "git restore "
   ]
  },
  {
   "cell_type": "markdown",
   "id": "28bda768-d8b2-47a7-b7ef-a95cde561bda",
   "metadata": {},
   "source": [
    "**Identificar-te**"
   ]
  },
  {
   "cell_type": "raw",
   "id": "8f4424f7-7b09-4dd9-84d5-f8699c7c8d49",
   "metadata": {},
   "source": [
    "git config --global user.email \"biel.bernal@estudiantat.upc.edu\"\n",
    "git config --global user.name \"Biel Bernal Pratdesaba\""
   ]
  },
  {
   "cell_type": "markdown",
   "id": "df64b7ab-2d45-4965-9ab3-0af69f405e5e",
   "metadata": {},
   "source": [
    "**Fer una confirmació de una modificació**"
   ]
  },
  {
   "cell_type": "raw",
   "id": "8d7d6f5c-94fd-4677-bf33-2fdff57620c5",
   "metadata": {},
   "source": [
    "git commit \n",
    "(s'obrirà nano i escrius el nom)\n",
    "ctr+o/enter\n",
    "sortir"
   ]
  },
  {
   "cell_type": "markdown",
   "id": "ef0912c9-50a5-4824-a147-220225745e37",
   "metadata": {},
   "source": [
    "**Actualitzar el github:**"
   ]
  },
  {
   "cell_type": "raw",
   "id": "433061f0-e6b7-434a-866c-016c5584ad04",
   "metadata": {},
   "source": [
    "git push"
   ]
  },
  {
   "cell_type": "markdown",
   "id": "9bb73fe6-0b60-4a43-b1f2-189a8fefba70",
   "metadata": {},
   "source": [
    "**Si s'ha canviat des de una altre maquina**"
   ]
  },
  {
   "cell_type": "raw",
   "id": "d93744d8-a538-4ad6-b296-d032c4c1f957",
   "metadata": {},
   "source": [
    "git fetch"
   ]
  },
  {
   "cell_type": "markdown",
   "id": "7151526e-b841-42b7-9aed-9acda9d63f61",
   "metadata": {},
   "source": [
    "**avans de començar**"
   ]
  },
  {
   "cell_type": "raw",
   "id": "f2a0730f-5e40-4b25-8b5a-18ef2f8ac2ca",
   "metadata": {},
   "source": [
    "git pull"
   ]
  },
  {
   "cell_type": "markdown",
   "id": "1c830fe3-eeec-4cc6-b5e4-8e62c1553f80",
   "metadata": {},
   "source": [
    "**per fer servir una funcio d'un arixiu que has creat**"
   ]
  },
  {
   "cell_type": "raw",
   "id": "304cb7b7-df8f-4b74-a38e-06803fa13f4f",
   "metadata": {},
   "source": [
    "run nomArxiu"
   ]
  },
  {
   "cell_type": "markdown",
   "id": "cf218578-881e-44c6-9b30-816d242f3b62",
   "metadata": {},
   "source": [
    "**per fer les proves unitaries de doctest**"
   ]
  },
  {
   "cell_type": "raw",
   "id": "24627073-d2ef-49d5-95e8-fc56f3ce7f06",
   "metadata": {},
   "source": [
    "import doctest\n",
    "doctest.testmod(fitxer)"
   ]
  },
  {
   "cell_type": "markdown",
   "id": "b89eee0c-473a-423e-b767-44bb81fa3210",
   "metadata": {},
   "source": [
    "**Executar un fitxer**"
   ]
  },
  {
   "cell_type": "raw",
   "id": "8e7c0569-6fa3-4664-adf8-c6624098ff8f",
   "metadata": {},
   "source": [
    "python3 nomfitxer"
   ]
  },
  {
   "cell_type": "markdown",
   "id": "725b7c65-45b6-4be0-9df7-d8698f2bdd70",
   "metadata": {},
   "source": [
    "**Executar fitxer i que mostri les proves unitaries**"
   ]
  },
  {
   "cell_type": "raw",
   "id": "17b09bb3-659b-4dc8-adfa-22f6bd072115",
   "metadata": {},
   "source": [
    "python3 nomfitxer -v"
   ]
  },
  {
   "cell_type": "markdown",
   "id": "aa63bb0e-7d50-423e-b35d-7337be0d4b82",
   "metadata": {},
   "source": [
    "**guardar estat a ipython3**"
   ]
  },
  {
   "cell_type": "raw",
   "id": "72a2796e-8140-405f-b6d3-5360621a326d",
   "metadata": {},
   "source": [
    "save nomestat"
   ]
  },
  {
   "cell_type": "code",
   "execution_count": null,
   "id": "48f98e93-0cc3-4e83-a66f-768ae18508a8",
   "metadata": {},
   "outputs": [],
   "source": []
  }
 ],
 "metadata": {
  "kernelspec": {
   "display_name": "Python 3 (ipykernel)",
   "language": "python",
   "name": "python3"
  },
  "language_info": {
   "codemirror_mode": {
    "name": "ipython",
    "version": 3
   },
   "file_extension": ".py",
   "mimetype": "text/x-python",
   "name": "python",
   "nbconvert_exporter": "python",
   "pygments_lexer": "ipython3",
   "version": "3.12.3"
  }
 },
 "nbformat": 4,
 "nbformat_minor": 5
}
