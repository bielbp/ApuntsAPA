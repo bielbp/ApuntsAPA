{
 "cells": [
  {
   "cell_type": "markdown",
   "id": "6a392cee-a5f2-4e01-a89f-7085c00fa25f",
   "metadata": {},
   "source": [
    "# Funcions"
   ]
  },
  {
   "cell_type": "markdown",
   "id": "aea50d39-6fd7-4b46-8296-3d877faf9c2f",
   "metadata": {},
   "source": [
    "## Length"
   ]
  },
  {
   "cell_type": "code",
   "execution_count": null,
   "id": "86153748-8210-4ab1-ba79-e75bb763b011",
   "metadata": {},
   "outputs": [],
   "source": [
    "len("
   ]
  }
 ],
 "metadata": {
  "kernelspec": {
   "display_name": "Python 3 (ipykernel)",
   "language": "python",
   "name": "python3"
  },
  "language_info": {
   "codemirror_mode": {
    "name": "ipython",
    "version": 3
   },
   "file_extension": ".py",
   "mimetype": "text/x-python",
   "name": "python",
   "nbconvert_exporter": "python",
   "pygments_lexer": "ipython3",
   "version": "3.12.3"
  }
 },
 "nbformat": 4,
 "nbformat_minor": 5
}
